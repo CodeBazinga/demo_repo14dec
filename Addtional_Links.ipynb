{
 "cells": [
  {
   "cell_type": "markdown",
   "id": "f11600d9",
   "metadata": {},
   "source": [
    "#### Loan Prediction\n",
    "1) https://www.kaggle.com/code/caesarmario/loan-prediction-w-various-ml-models/notebook<br>\n",
    "2) https://www.kaggle.com/code/turkayavci/fraud-detection-on-bank-payments<br>\n",
    "3) https://www.kaggle.com/datasets/ninzaami/loan-predication/code<br>\n",
    "4) https://www.kaggle.com/code/daniilkrasnoproshin/82-accuracy-loan-eligibility-svm-predictor<br>\n",
    "    \n",
    " \n",
    "#### Insurance Fraud\n",
    "1) https://www.kaggle.com/code/niteshyadav3103/insurance-fraud-detection-using-12-models<br>\n",
    "2) https://www.kaggle.com/code/turkayavci/fraud-detection-on-bank-payments\n",
    " \n",
    " \n",
    "#### Vehicle Claim Fraud\n",
    "All Code: https://www.kaggle.com/datasets/shivamb/vehicle-claim-fraud-detection/code?datasetId=1807255&language=Python\n",
    "\n",
    "1) https://www.kaggle.com/code/jackgreenaway/easy-97-accuracy-with-lr-insurance-fraud<br> \n",
    "2) https://www.kaggle.com/code/mostafaoc2/vehicle-claim-fraud-detection    "
   ]
  },
  {
   "cell_type": "code",
   "execution_count": null,
   "id": "2ed02d0f",
   "metadata": {},
   "outputs": [],
   "source": []
  }
 ],
 "metadata": {
  "kernelspec": {
   "display_name": "Python 3 (ipykernel)",
   "language": "python",
   "name": "python3"
  },
  "language_info": {
   "codemirror_mode": {
    "name": "ipython",
    "version": 3
   },
   "file_extension": ".py",
   "mimetype": "text/x-python",
   "name": "python",
   "nbconvert_exporter": "python",
   "pygments_lexer": "ipython3",
   "version": "3.9.13"
  }
 },
 "nbformat": 4,
 "nbformat_minor": 5
}
