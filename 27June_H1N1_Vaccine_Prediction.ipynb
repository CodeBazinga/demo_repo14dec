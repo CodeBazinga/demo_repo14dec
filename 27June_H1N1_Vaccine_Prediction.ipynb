{
 "cells": [
  {
   "cell_type": "markdown",
   "id": "81952391",
   "metadata": {},
   "source": [
    "#### Import the libraries"
   ]
  },
  {
   "cell_type": "code",
   "execution_count": 1,
   "id": "a302d81c",
   "metadata": {},
   "outputs": [],
   "source": [
    "import pandas as pd\n",
    "import numpy as np\n",
    "import matplotlib.pyplot as plt\n",
    "import seaborn as sns"
   ]
  },
  {
   "cell_type": "markdown",
   "id": "103aa5f3",
   "metadata": {},
   "source": [
    "#### Read the dataset"
   ]
  },
  {
   "cell_type": "code",
   "execution_count": 2,
   "id": "6c5a0ee9",
   "metadata": {},
   "outputs": [],
   "source": [
    "import os"
   ]
  },
  {
   "cell_type": "code",
   "execution_count": 3,
   "id": "0b14fa17",
   "metadata": {},
   "outputs": [
    {
     "name": "stdout",
     "output_type": "stream",
     "text": [
      "C:\\Users\\Dell\\Downloads\\Imarticus_Work\\PGA33\\ML\\Log_Reg\\Project\n"
     ]
    }
   ],
   "source": [
    "print(os.getcwd())  # get current working directory"
   ]
  },
  {
   "cell_type": "code",
   "execution_count": 4,
   "id": "9f31f71c",
   "metadata": {},
   "outputs": [],
   "source": [
    "os.chdir('E:\\\\dataset')  # chdir - change directory"
   ]
  },
  {
   "cell_type": "code",
   "execution_count": 5,
   "id": "f5f6d275",
   "metadata": {},
   "outputs": [
    {
     "name": "stdout",
     "output_type": "stream",
     "text": [
      "E:\\dataset\n"
     ]
    }
   ],
   "source": [
    "print(os.getcwd())"
   ]
  },
  {
   "cell_type": "code",
   "execution_count": 6,
   "id": "af6d182c",
   "metadata": {},
   "outputs": [
    {
     "name": "stdout",
     "output_type": "stream",
     "text": [
      "['h1n1_vaccine_prediction.csv']\n"
     ]
    }
   ],
   "source": [
    "print(os.listdir())  # list all the files in the current folder"
   ]
  },
  {
   "cell_type": "code",
   "execution_count": 8,
   "id": "374cf80c",
   "metadata": {},
   "outputs": [
    {
     "data": {
      "text/html": [
       "<div>\n",
       "<style scoped>\n",
       "    .dataframe tbody tr th:only-of-type {\n",
       "        vertical-align: middle;\n",
       "    }\n",
       "\n",
       "    .dataframe tbody tr th {\n",
       "        vertical-align: top;\n",
       "    }\n",
       "\n",
       "    .dataframe thead th {\n",
       "        text-align: right;\n",
       "    }\n",
       "</style>\n",
       "<table border=\"1\" class=\"dataframe\">\n",
       "  <thead>\n",
       "    <tr style=\"text-align: right;\">\n",
       "      <th></th>\n",
       "      <th>unique_id</th>\n",
       "      <th>h1n1_worry</th>\n",
       "      <th>h1n1_awareness</th>\n",
       "      <th>antiviral_medication</th>\n",
       "      <th>contact_avoidance</th>\n",
       "      <th>bought_face_mask</th>\n",
       "      <th>wash_hands_frequently</th>\n",
       "      <th>avoid_large_gatherings</th>\n",
       "      <th>reduced_outside_home_cont</th>\n",
       "      <th>avoid_touch_face</th>\n",
       "      <th>...</th>\n",
       "      <th>race</th>\n",
       "      <th>sex</th>\n",
       "      <th>income_level</th>\n",
       "      <th>marital_status</th>\n",
       "      <th>housing_status</th>\n",
       "      <th>employment</th>\n",
       "      <th>census_msa</th>\n",
       "      <th>no_of_adults</th>\n",
       "      <th>no_of_children</th>\n",
       "      <th>h1n1_vaccine</th>\n",
       "    </tr>\n",
       "  </thead>\n",
       "  <tbody>\n",
       "    <tr>\n",
       "      <th>0</th>\n",
       "      <td>0</td>\n",
       "      <td>1.0</td>\n",
       "      <td>0.0</td>\n",
       "      <td>0.0</td>\n",
       "      <td>0.0</td>\n",
       "      <td>0.0</td>\n",
       "      <td>0.0</td>\n",
       "      <td>0.0</td>\n",
       "      <td>1.0</td>\n",
       "      <td>1.0</td>\n",
       "      <td>...</td>\n",
       "      <td>White</td>\n",
       "      <td>Female</td>\n",
       "      <td>Below Poverty</td>\n",
       "      <td>Not Married</td>\n",
       "      <td>Own</td>\n",
       "      <td>Not in Labor Force</td>\n",
       "      <td>Non-MSA</td>\n",
       "      <td>0.0</td>\n",
       "      <td>0.0</td>\n",
       "      <td>0</td>\n",
       "    </tr>\n",
       "    <tr>\n",
       "      <th>1</th>\n",
       "      <td>1</td>\n",
       "      <td>3.0</td>\n",
       "      <td>2.0</td>\n",
       "      <td>0.0</td>\n",
       "      <td>1.0</td>\n",
       "      <td>0.0</td>\n",
       "      <td>1.0</td>\n",
       "      <td>0.0</td>\n",
       "      <td>1.0</td>\n",
       "      <td>1.0</td>\n",
       "      <td>...</td>\n",
       "      <td>White</td>\n",
       "      <td>Male</td>\n",
       "      <td>Below Poverty</td>\n",
       "      <td>Not Married</td>\n",
       "      <td>Rent</td>\n",
       "      <td>Employed</td>\n",
       "      <td>MSA, Not Principle  City</td>\n",
       "      <td>0.0</td>\n",
       "      <td>0.0</td>\n",
       "      <td>0</td>\n",
       "    </tr>\n",
       "    <tr>\n",
       "      <th>2</th>\n",
       "      <td>2</td>\n",
       "      <td>1.0</td>\n",
       "      <td>1.0</td>\n",
       "      <td>0.0</td>\n",
       "      <td>1.0</td>\n",
       "      <td>0.0</td>\n",
       "      <td>0.0</td>\n",
       "      <td>0.0</td>\n",
       "      <td>0.0</td>\n",
       "      <td>0.0</td>\n",
       "      <td>...</td>\n",
       "      <td>White</td>\n",
       "      <td>Male</td>\n",
       "      <td>&lt;= $75,000, Above Poverty</td>\n",
       "      <td>Not Married</td>\n",
       "      <td>Own</td>\n",
       "      <td>Employed</td>\n",
       "      <td>MSA, Not Principle  City</td>\n",
       "      <td>2.0</td>\n",
       "      <td>0.0</td>\n",
       "      <td>0</td>\n",
       "    </tr>\n",
       "    <tr>\n",
       "      <th>3</th>\n",
       "      <td>3</td>\n",
       "      <td>1.0</td>\n",
       "      <td>1.0</td>\n",
       "      <td>0.0</td>\n",
       "      <td>1.0</td>\n",
       "      <td>0.0</td>\n",
       "      <td>1.0</td>\n",
       "      <td>1.0</td>\n",
       "      <td>0.0</td>\n",
       "      <td>0.0</td>\n",
       "      <td>...</td>\n",
       "      <td>White</td>\n",
       "      <td>Female</td>\n",
       "      <td>Below Poverty</td>\n",
       "      <td>Not Married</td>\n",
       "      <td>Rent</td>\n",
       "      <td>Not in Labor Force</td>\n",
       "      <td>MSA, Principle City</td>\n",
       "      <td>0.0</td>\n",
       "      <td>0.0</td>\n",
       "      <td>0</td>\n",
       "    </tr>\n",
       "    <tr>\n",
       "      <th>4</th>\n",
       "      <td>4</td>\n",
       "      <td>2.0</td>\n",
       "      <td>1.0</td>\n",
       "      <td>0.0</td>\n",
       "      <td>1.0</td>\n",
       "      <td>0.0</td>\n",
       "      <td>1.0</td>\n",
       "      <td>1.0</td>\n",
       "      <td>0.0</td>\n",
       "      <td>1.0</td>\n",
       "      <td>...</td>\n",
       "      <td>White</td>\n",
       "      <td>Female</td>\n",
       "      <td>&lt;= $75,000, Above Poverty</td>\n",
       "      <td>Married</td>\n",
       "      <td>Own</td>\n",
       "      <td>Employed</td>\n",
       "      <td>MSA, Not Principle  City</td>\n",
       "      <td>1.0</td>\n",
       "      <td>0.0</td>\n",
       "      <td>0</td>\n",
       "    </tr>\n",
       "  </tbody>\n",
       "</table>\n",
       "<p>5 rows × 34 columns</p>\n",
       "</div>"
      ],
      "text/plain": [
       "   unique_id  h1n1_worry  h1n1_awareness  antiviral_medication  \\\n",
       "0          0         1.0             0.0                   0.0   \n",
       "1          1         3.0             2.0                   0.0   \n",
       "2          2         1.0             1.0                   0.0   \n",
       "3          3         1.0             1.0                   0.0   \n",
       "4          4         2.0             1.0                   0.0   \n",
       "\n",
       "   contact_avoidance  bought_face_mask  wash_hands_frequently  \\\n",
       "0                0.0               0.0                    0.0   \n",
       "1                1.0               0.0                    1.0   \n",
       "2                1.0               0.0                    0.0   \n",
       "3                1.0               0.0                    1.0   \n",
       "4                1.0               0.0                    1.0   \n",
       "\n",
       "   avoid_large_gatherings  reduced_outside_home_cont  avoid_touch_face  ...  \\\n",
       "0                     0.0                        1.0               1.0  ...   \n",
       "1                     0.0                        1.0               1.0  ...   \n",
       "2                     0.0                        0.0               0.0  ...   \n",
       "3                     1.0                        0.0               0.0  ...   \n",
       "4                     1.0                        0.0               1.0  ...   \n",
       "\n",
       "    race     sex               income_level  marital_status  housing_status  \\\n",
       "0  White  Female              Below Poverty     Not Married             Own   \n",
       "1  White    Male              Below Poverty     Not Married            Rent   \n",
       "2  White    Male  <= $75,000, Above Poverty     Not Married             Own   \n",
       "3  White  Female              Below Poverty     Not Married            Rent   \n",
       "4  White  Female  <= $75,000, Above Poverty         Married             Own   \n",
       "\n",
       "           employment                census_msa  no_of_adults  no_of_children  \\\n",
       "0  Not in Labor Force                   Non-MSA           0.0             0.0   \n",
       "1            Employed  MSA, Not Principle  City           0.0             0.0   \n",
       "2            Employed  MSA, Not Principle  City           2.0             0.0   \n",
       "3  Not in Labor Force       MSA, Principle City           0.0             0.0   \n",
       "4            Employed  MSA, Not Principle  City           1.0             0.0   \n",
       "\n",
       "   h1n1_vaccine  \n",
       "0             0  \n",
       "1             0  \n",
       "2             0  \n",
       "3             0  \n",
       "4             0  \n",
       "\n",
       "[5 rows x 34 columns]"
      ]
     },
     "execution_count": 8,
     "metadata": {},
     "output_type": "execute_result"
    }
   ],
   "source": [
    "df = pd.read_csv('h1n1_vaccine_prediction.csv')\n",
    "df.head()"
   ]
  },
  {
   "cell_type": "code",
   "execution_count": 9,
   "id": "e6b3eb8e",
   "metadata": {},
   "outputs": [
    {
     "data": {
      "text/plain": [
       "(26707, 34)"
      ]
     },
     "execution_count": 9,
     "metadata": {},
     "output_type": "execute_result"
    }
   ],
   "source": [
    "df.shape"
   ]
  },
  {
   "cell_type": "markdown",
   "id": "a5bcac24",
   "metadata": {},
   "source": [
    "### Data Preprocessing "
   ]
  },
  {
   "cell_type": "code",
   "execution_count": 10,
   "id": "9f51aeed",
   "metadata": {},
   "outputs": [],
   "source": [
    "df1 = df.copy()"
   ]
  },
  {
   "cell_type": "markdown",
   "id": "e7a23ead",
   "metadata": {},
   "source": [
    "#### 1) Handle Null values"
   ]
  },
  {
   "cell_type": "code",
   "execution_count": 11,
   "id": "1728ce34",
   "metadata": {},
   "outputs": [
    {
     "data": {
      "text/plain": [
       "h1n1_worry                      92\n",
       "h1n1_awareness                 116\n",
       "antiviral_medication            71\n",
       "contact_avoidance              208\n",
       "bought_face_mask                19\n",
       "wash_hands_frequently           42\n",
       "avoid_large_gatherings          87\n",
       "reduced_outside_home_cont       82\n",
       "avoid_touch_face               128\n",
       "dr_recc_h1n1_vacc             2160\n",
       "dr_recc_seasonal_vacc         2160\n",
       "chronic_medic_condition        971\n",
       "cont_child_undr_6_mnths        820\n",
       "is_health_worker               804\n",
       "has_health_insur             12274\n",
       "is_h1n1_vacc_effective         391\n",
       "is_h1n1_risky                  388\n",
       "sick_from_h1n1_vacc            395\n",
       "is_seas_vacc_effective         462\n",
       "is_seas_risky                  514\n",
       "sick_from_seas_vacc            537\n",
       "qualification                 1407\n",
       "income_level                  4423\n",
       "marital_status                1408\n",
       "housing_status                2042\n",
       "employment                    1463\n",
       "no_of_adults                   249\n",
       "no_of_children                 249\n",
       "dtype: int64"
      ]
     },
     "execution_count": 11,
     "metadata": {},
     "output_type": "execute_result"
    }
   ],
   "source": [
    "nv = df.isnull().sum()\n",
    "nv = nv[nv>0]\n",
    "nv"
   ]
  },
  {
   "cell_type": "code",
   "execution_count": 12,
   "id": "8a965b75",
   "metadata": {},
   "outputs": [],
   "source": [
    "def null_value_per(data):\n",
    "    nv = data.isnull().sum()\n",
    "    nv = nv[nv>0]\n",
    "    nv_df = pd.DataFrame({'Feature':nv.index,'NullCount':nv.values,\n",
    "                         'PerNull':(nv.values/data.shape[0])*100})\n",
    "    nv_df = nv_df.sort_values('PerNull',ascending=False)\n",
    "    return nv_df"
   ]
  },
  {
   "cell_type": "code",
   "execution_count": 13,
   "id": "3e407018",
   "metadata": {},
   "outputs": [
    {
     "data": {
      "text/html": [
       "<div>\n",
       "<style scoped>\n",
       "    .dataframe tbody tr th:only-of-type {\n",
       "        vertical-align: middle;\n",
       "    }\n",
       "\n",
       "    .dataframe tbody tr th {\n",
       "        vertical-align: top;\n",
       "    }\n",
       "\n",
       "    .dataframe thead th {\n",
       "        text-align: right;\n",
       "    }\n",
       "</style>\n",
       "<table border=\"1\" class=\"dataframe\">\n",
       "  <thead>\n",
       "    <tr style=\"text-align: right;\">\n",
       "      <th></th>\n",
       "      <th>Feature</th>\n",
       "      <th>NullCount</th>\n",
       "      <th>PerNull</th>\n",
       "    </tr>\n",
       "  </thead>\n",
       "  <tbody>\n",
       "    <tr>\n",
       "      <th>14</th>\n",
       "      <td>has_health_insur</td>\n",
       "      <td>12274</td>\n",
       "      <td>45.957989</td>\n",
       "    </tr>\n",
       "    <tr>\n",
       "      <th>22</th>\n",
       "      <td>income_level</td>\n",
       "      <td>4423</td>\n",
       "      <td>16.561201</td>\n",
       "    </tr>\n",
       "    <tr>\n",
       "      <th>10</th>\n",
       "      <td>dr_recc_seasonal_vacc</td>\n",
       "      <td>2160</td>\n",
       "      <td>8.087767</td>\n",
       "    </tr>\n",
       "    <tr>\n",
       "      <th>9</th>\n",
       "      <td>dr_recc_h1n1_vacc</td>\n",
       "      <td>2160</td>\n",
       "      <td>8.087767</td>\n",
       "    </tr>\n",
       "    <tr>\n",
       "      <th>24</th>\n",
       "      <td>housing_status</td>\n",
       "      <td>2042</td>\n",
       "      <td>7.645936</td>\n",
       "    </tr>\n",
       "    <tr>\n",
       "      <th>25</th>\n",
       "      <td>employment</td>\n",
       "      <td>1463</td>\n",
       "      <td>5.477965</td>\n",
       "    </tr>\n",
       "    <tr>\n",
       "      <th>23</th>\n",
       "      <td>marital_status</td>\n",
       "      <td>1408</td>\n",
       "      <td>5.272026</td>\n",
       "    </tr>\n",
       "    <tr>\n",
       "      <th>21</th>\n",
       "      <td>qualification</td>\n",
       "      <td>1407</td>\n",
       "      <td>5.268282</td>\n",
       "    </tr>\n",
       "    <tr>\n",
       "      <th>11</th>\n",
       "      <td>chronic_medic_condition</td>\n",
       "      <td>971</td>\n",
       "      <td>3.635751</td>\n",
       "    </tr>\n",
       "    <tr>\n",
       "      <th>12</th>\n",
       "      <td>cont_child_undr_6_mnths</td>\n",
       "      <td>820</td>\n",
       "      <td>3.070356</td>\n",
       "    </tr>\n",
       "    <tr>\n",
       "      <th>13</th>\n",
       "      <td>is_health_worker</td>\n",
       "      <td>804</td>\n",
       "      <td>3.010447</td>\n",
       "    </tr>\n",
       "    <tr>\n",
       "      <th>20</th>\n",
       "      <td>sick_from_seas_vacc</td>\n",
       "      <td>537</td>\n",
       "      <td>2.010709</td>\n",
       "    </tr>\n",
       "    <tr>\n",
       "      <th>19</th>\n",
       "      <td>is_seas_risky</td>\n",
       "      <td>514</td>\n",
       "      <td>1.924589</td>\n",
       "    </tr>\n",
       "    <tr>\n",
       "      <th>18</th>\n",
       "      <td>is_seas_vacc_effective</td>\n",
       "      <td>462</td>\n",
       "      <td>1.729884</td>\n",
       "    </tr>\n",
       "    <tr>\n",
       "      <th>17</th>\n",
       "      <td>sick_from_h1n1_vacc</td>\n",
       "      <td>395</td>\n",
       "      <td>1.479013</td>\n",
       "    </tr>\n",
       "    <tr>\n",
       "      <th>15</th>\n",
       "      <td>is_h1n1_vacc_effective</td>\n",
       "      <td>391</td>\n",
       "      <td>1.464036</td>\n",
       "    </tr>\n",
       "    <tr>\n",
       "      <th>16</th>\n",
       "      <td>is_h1n1_risky</td>\n",
       "      <td>388</td>\n",
       "      <td>1.452803</td>\n",
       "    </tr>\n",
       "    <tr>\n",
       "      <th>26</th>\n",
       "      <td>no_of_adults</td>\n",
       "      <td>249</td>\n",
       "      <td>0.932340</td>\n",
       "    </tr>\n",
       "    <tr>\n",
       "      <th>27</th>\n",
       "      <td>no_of_children</td>\n",
       "      <td>249</td>\n",
       "      <td>0.932340</td>\n",
       "    </tr>\n",
       "    <tr>\n",
       "      <th>3</th>\n",
       "      <td>contact_avoidance</td>\n",
       "      <td>208</td>\n",
       "      <td>0.778822</td>\n",
       "    </tr>\n",
       "    <tr>\n",
       "      <th>8</th>\n",
       "      <td>avoid_touch_face</td>\n",
       "      <td>128</td>\n",
       "      <td>0.479275</td>\n",
       "    </tr>\n",
       "    <tr>\n",
       "      <th>1</th>\n",
       "      <td>h1n1_awareness</td>\n",
       "      <td>116</td>\n",
       "      <td>0.434343</td>\n",
       "    </tr>\n",
       "    <tr>\n",
       "      <th>0</th>\n",
       "      <td>h1n1_worry</td>\n",
       "      <td>92</td>\n",
       "      <td>0.344479</td>\n",
       "    </tr>\n",
       "    <tr>\n",
       "      <th>6</th>\n",
       "      <td>avoid_large_gatherings</td>\n",
       "      <td>87</td>\n",
       "      <td>0.325757</td>\n",
       "    </tr>\n",
       "    <tr>\n",
       "      <th>7</th>\n",
       "      <td>reduced_outside_home_cont</td>\n",
       "      <td>82</td>\n",
       "      <td>0.307036</td>\n",
       "    </tr>\n",
       "    <tr>\n",
       "      <th>2</th>\n",
       "      <td>antiviral_medication</td>\n",
       "      <td>71</td>\n",
       "      <td>0.265848</td>\n",
       "    </tr>\n",
       "    <tr>\n",
       "      <th>5</th>\n",
       "      <td>wash_hands_frequently</td>\n",
       "      <td>42</td>\n",
       "      <td>0.157262</td>\n",
       "    </tr>\n",
       "    <tr>\n",
       "      <th>4</th>\n",
       "      <td>bought_face_mask</td>\n",
       "      <td>19</td>\n",
       "      <td>0.071142</td>\n",
       "    </tr>\n",
       "  </tbody>\n",
       "</table>\n",
       "</div>"
      ],
      "text/plain": [
       "                      Feature  NullCount    PerNull\n",
       "14           has_health_insur      12274  45.957989\n",
       "22               income_level       4423  16.561201\n",
       "10      dr_recc_seasonal_vacc       2160   8.087767\n",
       "9           dr_recc_h1n1_vacc       2160   8.087767\n",
       "24             housing_status       2042   7.645936\n",
       "25                 employment       1463   5.477965\n",
       "23             marital_status       1408   5.272026\n",
       "21              qualification       1407   5.268282\n",
       "11    chronic_medic_condition        971   3.635751\n",
       "12    cont_child_undr_6_mnths        820   3.070356\n",
       "13           is_health_worker        804   3.010447\n",
       "20        sick_from_seas_vacc        537   2.010709\n",
       "19              is_seas_risky        514   1.924589\n",
       "18     is_seas_vacc_effective        462   1.729884\n",
       "17        sick_from_h1n1_vacc        395   1.479013\n",
       "15     is_h1n1_vacc_effective        391   1.464036\n",
       "16              is_h1n1_risky        388   1.452803\n",
       "26               no_of_adults        249   0.932340\n",
       "27             no_of_children        249   0.932340\n",
       "3           contact_avoidance        208   0.778822\n",
       "8            avoid_touch_face        128   0.479275\n",
       "1              h1n1_awareness        116   0.434343\n",
       "0                  h1n1_worry         92   0.344479\n",
       "6      avoid_large_gatherings         87   0.325757\n",
       "7   reduced_outside_home_cont         82   0.307036\n",
       "2        antiviral_medication         71   0.265848\n",
       "5       wash_hands_frequently         42   0.157262\n",
       "4            bought_face_mask         19   0.071142"
      ]
     },
     "execution_count": 13,
     "metadata": {},
     "output_type": "execute_result"
    }
   ],
   "source": [
    "res1 = null_value_per(df)\n",
    "res1"
   ]
  },
  {
   "cell_type": "code",
   "execution_count": 14,
   "id": "3e65afa9",
   "metadata": {},
   "outputs": [
    {
     "name": "stdout",
     "output_type": "stream",
     "text": [
      "['has_health_insur' 'income_level' 'dr_recc_seasonal_vacc'\n",
      " 'dr_recc_h1n1_vacc' 'housing_status']\n"
     ]
    }
   ],
   "source": [
    "nv_gt7_per = res1['Feature'][res1['PerNull']>7].values\n",
    "print(nv_gt7_per)"
   ]
  },
  {
   "cell_type": "code",
   "execution_count": 15,
   "id": "0d076f5c",
   "metadata": {},
   "outputs": [
    {
     "name": "stdout",
     "output_type": "stream",
     "text": [
      "Feature has_health_insur\n",
      "1.0    12697\n",
      "0.0     1736\n",
      "Name: has_health_insur, dtype: int64\n",
      "Feature income_level\n",
      "<= $75,000, Above Poverty    12777\n",
      "> $75,000                     6810\n",
      "Below Poverty                 2697\n",
      "Name: income_level, dtype: int64\n",
      "Feature dr_recc_seasonal_vacc\n",
      "0.0    16453\n",
      "1.0     8094\n",
      "Name: dr_recc_seasonal_vacc, dtype: int64\n",
      "Feature dr_recc_h1n1_vacc\n",
      "0.0    19139\n",
      "1.0     5408\n",
      "Name: dr_recc_h1n1_vacc, dtype: int64\n",
      "Feature housing_status\n",
      "Own     18736\n",
      "Rent     5929\n",
      "Name: housing_status, dtype: int64\n"
     ]
    }
   ],
   "source": [
    "for i in nv_gt7_per:\n",
    "    print('Feature',i)\n",
    "    print(df[i].value_counts())"
   ]
  },
  {
   "cell_type": "code",
   "execution_count": 16,
   "id": "9c7aa5dc",
   "metadata": {},
   "outputs": [
    {
     "data": {
      "text/html": [
       "<div>\n",
       "<style scoped>\n",
       "    .dataframe tbody tr th:only-of-type {\n",
       "        vertical-align: middle;\n",
       "    }\n",
       "\n",
       "    .dataframe tbody tr th {\n",
       "        vertical-align: top;\n",
       "    }\n",
       "\n",
       "    .dataframe thead th {\n",
       "        text-align: right;\n",
       "    }\n",
       "</style>\n",
       "<table border=\"1\" class=\"dataframe\">\n",
       "  <thead>\n",
       "    <tr style=\"text-align: right;\">\n",
       "      <th></th>\n",
       "      <th>Feature</th>\n",
       "      <th>NullCount</th>\n",
       "      <th>PerNull</th>\n",
       "    </tr>\n",
       "  </thead>\n",
       "  <tbody>\n",
       "    <tr>\n",
       "      <th>14</th>\n",
       "      <td>has_health_insur</td>\n",
       "      <td>12274</td>\n",
       "      <td>45.957989</td>\n",
       "    </tr>\n",
       "    <tr>\n",
       "      <th>22</th>\n",
       "      <td>income_level</td>\n",
       "      <td>4423</td>\n",
       "      <td>16.561201</td>\n",
       "    </tr>\n",
       "    <tr>\n",
       "      <th>10</th>\n",
       "      <td>dr_recc_seasonal_vacc</td>\n",
       "      <td>2160</td>\n",
       "      <td>8.087767</td>\n",
       "    </tr>\n",
       "    <tr>\n",
       "      <th>9</th>\n",
       "      <td>dr_recc_h1n1_vacc</td>\n",
       "      <td>2160</td>\n",
       "      <td>8.087767</td>\n",
       "    </tr>\n",
       "    <tr>\n",
       "      <th>24</th>\n",
       "      <td>housing_status</td>\n",
       "      <td>2042</td>\n",
       "      <td>7.645936</td>\n",
       "    </tr>\n",
       "  </tbody>\n",
       "</table>\n",
       "</div>"
      ],
      "text/plain": [
       "                  Feature  NullCount    PerNull\n",
       "14       has_health_insur      12274  45.957989\n",
       "22           income_level       4423  16.561201\n",
       "10  dr_recc_seasonal_vacc       2160   8.087767\n",
       "9       dr_recc_h1n1_vacc       2160   8.087767\n",
       "24         housing_status       2042   7.645936"
      ]
     },
     "execution_count": 16,
     "metadata": {},
     "output_type": "execute_result"
    }
   ],
   "source": [
    "res1.head()"
   ]
  },
  {
   "cell_type": "code",
   "execution_count": 17,
   "id": "a4e05cee",
   "metadata": {},
   "outputs": [],
   "source": [
    "# df['has_health_insur'].value_counts(normalize=True)"
   ]
  },
  {
   "cell_type": "code",
   "execution_count": 18,
   "id": "f20dbd82",
   "metadata": {},
   "outputs": [
    {
     "data": {
      "text/plain": [
       "Index(['unique_id', 'h1n1_worry', 'h1n1_awareness', 'antiviral_medication',\n",
       "       'contact_avoidance', 'bought_face_mask', 'wash_hands_frequently',\n",
       "       'avoid_large_gatherings', 'reduced_outside_home_cont',\n",
       "       'avoid_touch_face', 'chronic_medic_condition',\n",
       "       'cont_child_undr_6_mnths', 'is_health_worker', 'is_h1n1_vacc_effective',\n",
       "       'is_h1n1_risky', 'sick_from_h1n1_vacc', 'is_seas_vacc_effective',\n",
       "       'is_seas_risky', 'sick_from_seas_vacc', 'age_bracket', 'qualification',\n",
       "       'race', 'sex', 'marital_status', 'employment', 'census_msa',\n",
       "       'no_of_adults', 'no_of_children', 'h1n1_vaccine'],\n",
       "      dtype='object')"
      ]
     },
     "execution_count": 18,
     "metadata": {},
     "output_type": "execute_result"
    }
   ],
   "source": [
    "df.drop(nv_gt7_per,axis=1,inplace=True)\n",
    "df.columns"
   ]
  },
  {
   "cell_type": "code",
   "execution_count": 19,
   "id": "b3911eb6",
   "metadata": {},
   "outputs": [
    {
     "data": {
      "text/html": [
       "<div>\n",
       "<style scoped>\n",
       "    .dataframe tbody tr th:only-of-type {\n",
       "        vertical-align: middle;\n",
       "    }\n",
       "\n",
       "    .dataframe tbody tr th {\n",
       "        vertical-align: top;\n",
       "    }\n",
       "\n",
       "    .dataframe thead th {\n",
       "        text-align: right;\n",
       "    }\n",
       "</style>\n",
       "<table border=\"1\" class=\"dataframe\">\n",
       "  <thead>\n",
       "    <tr style=\"text-align: right;\">\n",
       "      <th></th>\n",
       "      <th>Feature</th>\n",
       "      <th>NullCount</th>\n",
       "      <th>PerNull</th>\n",
       "    </tr>\n",
       "  </thead>\n",
       "  <tbody>\n",
       "    <tr>\n",
       "      <th>20</th>\n",
       "      <td>employment</td>\n",
       "      <td>1463</td>\n",
       "      <td>5.477965</td>\n",
       "    </tr>\n",
       "    <tr>\n",
       "      <th>19</th>\n",
       "      <td>marital_status</td>\n",
       "      <td>1408</td>\n",
       "      <td>5.272026</td>\n",
       "    </tr>\n",
       "    <tr>\n",
       "      <th>18</th>\n",
       "      <td>qualification</td>\n",
       "      <td>1407</td>\n",
       "      <td>5.268282</td>\n",
       "    </tr>\n",
       "    <tr>\n",
       "      <th>9</th>\n",
       "      <td>chronic_medic_condition</td>\n",
       "      <td>971</td>\n",
       "      <td>3.635751</td>\n",
       "    </tr>\n",
       "    <tr>\n",
       "      <th>10</th>\n",
       "      <td>cont_child_undr_6_mnths</td>\n",
       "      <td>820</td>\n",
       "      <td>3.070356</td>\n",
       "    </tr>\n",
       "    <tr>\n",
       "      <th>11</th>\n",
       "      <td>is_health_worker</td>\n",
       "      <td>804</td>\n",
       "      <td>3.010447</td>\n",
       "    </tr>\n",
       "    <tr>\n",
       "      <th>17</th>\n",
       "      <td>sick_from_seas_vacc</td>\n",
       "      <td>537</td>\n",
       "      <td>2.010709</td>\n",
       "    </tr>\n",
       "    <tr>\n",
       "      <th>16</th>\n",
       "      <td>is_seas_risky</td>\n",
       "      <td>514</td>\n",
       "      <td>1.924589</td>\n",
       "    </tr>\n",
       "    <tr>\n",
       "      <th>15</th>\n",
       "      <td>is_seas_vacc_effective</td>\n",
       "      <td>462</td>\n",
       "      <td>1.729884</td>\n",
       "    </tr>\n",
       "    <tr>\n",
       "      <th>14</th>\n",
       "      <td>sick_from_h1n1_vacc</td>\n",
       "      <td>395</td>\n",
       "      <td>1.479013</td>\n",
       "    </tr>\n",
       "    <tr>\n",
       "      <th>12</th>\n",
       "      <td>is_h1n1_vacc_effective</td>\n",
       "      <td>391</td>\n",
       "      <td>1.464036</td>\n",
       "    </tr>\n",
       "    <tr>\n",
       "      <th>13</th>\n",
       "      <td>is_h1n1_risky</td>\n",
       "      <td>388</td>\n",
       "      <td>1.452803</td>\n",
       "    </tr>\n",
       "    <tr>\n",
       "      <th>21</th>\n",
       "      <td>no_of_adults</td>\n",
       "      <td>249</td>\n",
       "      <td>0.932340</td>\n",
       "    </tr>\n",
       "    <tr>\n",
       "      <th>22</th>\n",
       "      <td>no_of_children</td>\n",
       "      <td>249</td>\n",
       "      <td>0.932340</td>\n",
       "    </tr>\n",
       "    <tr>\n",
       "      <th>3</th>\n",
       "      <td>contact_avoidance</td>\n",
       "      <td>208</td>\n",
       "      <td>0.778822</td>\n",
       "    </tr>\n",
       "    <tr>\n",
       "      <th>8</th>\n",
       "      <td>avoid_touch_face</td>\n",
       "      <td>128</td>\n",
       "      <td>0.479275</td>\n",
       "    </tr>\n",
       "    <tr>\n",
       "      <th>1</th>\n",
       "      <td>h1n1_awareness</td>\n",
       "      <td>116</td>\n",
       "      <td>0.434343</td>\n",
       "    </tr>\n",
       "    <tr>\n",
       "      <th>0</th>\n",
       "      <td>h1n1_worry</td>\n",
       "      <td>92</td>\n",
       "      <td>0.344479</td>\n",
       "    </tr>\n",
       "    <tr>\n",
       "      <th>6</th>\n",
       "      <td>avoid_large_gatherings</td>\n",
       "      <td>87</td>\n",
       "      <td>0.325757</td>\n",
       "    </tr>\n",
       "    <tr>\n",
       "      <th>7</th>\n",
       "      <td>reduced_outside_home_cont</td>\n",
       "      <td>82</td>\n",
       "      <td>0.307036</td>\n",
       "    </tr>\n",
       "    <tr>\n",
       "      <th>2</th>\n",
       "      <td>antiviral_medication</td>\n",
       "      <td>71</td>\n",
       "      <td>0.265848</td>\n",
       "    </tr>\n",
       "    <tr>\n",
       "      <th>5</th>\n",
       "      <td>wash_hands_frequently</td>\n",
       "      <td>42</td>\n",
       "      <td>0.157262</td>\n",
       "    </tr>\n",
       "    <tr>\n",
       "      <th>4</th>\n",
       "      <td>bought_face_mask</td>\n",
       "      <td>19</td>\n",
       "      <td>0.071142</td>\n",
       "    </tr>\n",
       "  </tbody>\n",
       "</table>\n",
       "</div>"
      ],
      "text/plain": [
       "                      Feature  NullCount   PerNull\n",
       "20                 employment       1463  5.477965\n",
       "19             marital_status       1408  5.272026\n",
       "18              qualification       1407  5.268282\n",
       "9     chronic_medic_condition        971  3.635751\n",
       "10    cont_child_undr_6_mnths        820  3.070356\n",
       "11           is_health_worker        804  3.010447\n",
       "17        sick_from_seas_vacc        537  2.010709\n",
       "16              is_seas_risky        514  1.924589\n",
       "15     is_seas_vacc_effective        462  1.729884\n",
       "14        sick_from_h1n1_vacc        395  1.479013\n",
       "12     is_h1n1_vacc_effective        391  1.464036\n",
       "13              is_h1n1_risky        388  1.452803\n",
       "21               no_of_adults        249  0.932340\n",
       "22             no_of_children        249  0.932340\n",
       "3           contact_avoidance        208  0.778822\n",
       "8            avoid_touch_face        128  0.479275\n",
       "1              h1n1_awareness        116  0.434343\n",
       "0                  h1n1_worry         92  0.344479\n",
       "6      avoid_large_gatherings         87  0.325757\n",
       "7   reduced_outside_home_cont         82  0.307036\n",
       "2        antiviral_medication         71  0.265848\n",
       "5       wash_hands_frequently         42  0.157262\n",
       "4            bought_face_mask         19  0.071142"
      ]
     },
     "execution_count": 19,
     "metadata": {},
     "output_type": "execute_result"
    }
   ],
   "source": [
    "null_value_per(df)"
   ]
  },
  {
   "cell_type": "code",
   "execution_count": 20,
   "id": "2a32e029",
   "metadata": {},
   "outputs": [
    {
     "data": {
      "text/html": [
       "<div>\n",
       "<style scoped>\n",
       "    .dataframe tbody tr th:only-of-type {\n",
       "        vertical-align: middle;\n",
       "    }\n",
       "\n",
       "    .dataframe tbody tr th {\n",
       "        vertical-align: top;\n",
       "    }\n",
       "\n",
       "    .dataframe thead th {\n",
       "        text-align: right;\n",
       "    }\n",
       "</style>\n",
       "<table border=\"1\" class=\"dataframe\">\n",
       "  <thead>\n",
       "    <tr style=\"text-align: right;\">\n",
       "      <th></th>\n",
       "      <th>Feature</th>\n",
       "      <th>NullCount</th>\n",
       "      <th>PerNull</th>\n",
       "    </tr>\n",
       "  </thead>\n",
       "  <tbody>\n",
       "  </tbody>\n",
       "</table>\n",
       "</div>"
      ],
      "text/plain": [
       "Empty DataFrame\n",
       "Columns: [Feature, NullCount, PerNull]\n",
       "Index: []"
      ]
     },
     "execution_count": 20,
     "metadata": {},
     "output_type": "execute_result"
    }
   ],
   "source": [
    "df.dropna(inplace=True)\n",
    "null_value_per(df)"
   ]
  },
  {
   "cell_type": "code",
   "execution_count": 21,
   "id": "3d9c2b6b",
   "metadata": {},
   "outputs": [
    {
     "data": {
      "text/plain": [
       "(24002, 29)"
      ]
     },
     "execution_count": 21,
     "metadata": {},
     "output_type": "execute_result"
    }
   ],
   "source": [
    "df.shape"
   ]
  },
  {
   "cell_type": "markdown",
   "id": "9ad86f4d",
   "metadata": {},
   "source": [
    "#### Percentage of data loss(in Rows)"
   ]
  },
  {
   "cell_type": "code",
   "execution_count": 22,
   "id": "bd22ddb9",
   "metadata": {},
   "outputs": [
    {
     "name": "stdout",
     "output_type": "stream",
     "text": [
      "10.128430748492905\n"
     ]
    }
   ],
   "source": [
    "print(((26707 - df.shape[0])/26707)*100)"
   ]
  },
  {
   "cell_type": "markdown",
   "id": "2c4e930a",
   "metadata": {},
   "source": [
    "#### 3) Handle Duplicates"
   ]
  },
  {
   "cell_type": "code",
   "execution_count": 23,
   "id": "ade8bbd5",
   "metadata": {},
   "outputs": [
    {
     "data": {
      "text/plain": [
       "0"
      ]
     },
     "execution_count": 23,
     "metadata": {},
     "output_type": "execute_result"
    }
   ],
   "source": [
    "df.duplicated().sum()"
   ]
  },
  {
   "cell_type": "markdown",
   "id": "15887aa6",
   "metadata": {},
   "source": [
    "#### 4) Handling data Inconsistency"
   ]
  },
  {
   "cell_type": "code",
   "execution_count": 24,
   "id": "3b19c8d0",
   "metadata": {},
   "outputs": [
    {
     "data": {
      "text/plain": [
       "unique_id                      int64\n",
       "h1n1_worry                   float64\n",
       "h1n1_awareness               float64\n",
       "antiviral_medication         float64\n",
       "contact_avoidance            float64\n",
       "bought_face_mask             float64\n",
       "wash_hands_frequently        float64\n",
       "avoid_large_gatherings       float64\n",
       "reduced_outside_home_cont    float64\n",
       "avoid_touch_face             float64\n",
       "chronic_medic_condition      float64\n",
       "cont_child_undr_6_mnths      float64\n",
       "is_health_worker             float64\n",
       "is_h1n1_vacc_effective       float64\n",
       "is_h1n1_risky                float64\n",
       "sick_from_h1n1_vacc          float64\n",
       "is_seas_vacc_effective       float64\n",
       "is_seas_risky                float64\n",
       "sick_from_seas_vacc          float64\n",
       "age_bracket                   object\n",
       "qualification                 object\n",
       "race                          object\n",
       "sex                           object\n",
       "marital_status                object\n",
       "employment                    object\n",
       "census_msa                    object\n",
       "no_of_adults                 float64\n",
       "no_of_children               float64\n",
       "h1n1_vaccine                   int64\n",
       "dtype: object"
      ]
     },
     "execution_count": 24,
     "metadata": {},
     "output_type": "execute_result"
    }
   ],
   "source": [
    "df.dtypes"
   ]
  },
  {
   "cell_type": "code",
   "execution_count": 25,
   "id": "a7902e79",
   "metadata": {},
   "outputs": [
    {
     "data": {
      "text/html": [
       "<div>\n",
       "<style scoped>\n",
       "    .dataframe tbody tr th:only-of-type {\n",
       "        vertical-align: middle;\n",
       "    }\n",
       "\n",
       "    .dataframe tbody tr th {\n",
       "        vertical-align: top;\n",
       "    }\n",
       "\n",
       "    .dataframe thead th {\n",
       "        text-align: right;\n",
       "    }\n",
       "</style>\n",
       "<table border=\"1\" class=\"dataframe\">\n",
       "  <thead>\n",
       "    <tr style=\"text-align: right;\">\n",
       "      <th></th>\n",
       "      <th>unique_id</th>\n",
       "      <th>h1n1_worry</th>\n",
       "      <th>h1n1_awareness</th>\n",
       "      <th>antiviral_medication</th>\n",
       "      <th>contact_avoidance</th>\n",
       "      <th>bought_face_mask</th>\n",
       "      <th>wash_hands_frequently</th>\n",
       "      <th>avoid_large_gatherings</th>\n",
       "      <th>reduced_outside_home_cont</th>\n",
       "      <th>avoid_touch_face</th>\n",
       "      <th>...</th>\n",
       "      <th>age_bracket</th>\n",
       "      <th>qualification</th>\n",
       "      <th>race</th>\n",
       "      <th>sex</th>\n",
       "      <th>marital_status</th>\n",
       "      <th>employment</th>\n",
       "      <th>census_msa</th>\n",
       "      <th>no_of_adults</th>\n",
       "      <th>no_of_children</th>\n",
       "      <th>h1n1_vaccine</th>\n",
       "    </tr>\n",
       "  </thead>\n",
       "  <tbody>\n",
       "    <tr>\n",
       "      <th>0</th>\n",
       "      <td>0</td>\n",
       "      <td>1.0</td>\n",
       "      <td>0.0</td>\n",
       "      <td>0.0</td>\n",
       "      <td>0.0</td>\n",
       "      <td>0.0</td>\n",
       "      <td>0.0</td>\n",
       "      <td>0.0</td>\n",
       "      <td>1.0</td>\n",
       "      <td>1.0</td>\n",
       "      <td>...</td>\n",
       "      <td>55 - 64 Years</td>\n",
       "      <td>&lt; 12 Years</td>\n",
       "      <td>White</td>\n",
       "      <td>Female</td>\n",
       "      <td>Not Married</td>\n",
       "      <td>Not in Labor Force</td>\n",
       "      <td>Non-MSA</td>\n",
       "      <td>0.0</td>\n",
       "      <td>0.0</td>\n",
       "      <td>0</td>\n",
       "    </tr>\n",
       "    <tr>\n",
       "      <th>1</th>\n",
       "      <td>1</td>\n",
       "      <td>3.0</td>\n",
       "      <td>2.0</td>\n",
       "      <td>0.0</td>\n",
       "      <td>1.0</td>\n",
       "      <td>0.0</td>\n",
       "      <td>1.0</td>\n",
       "      <td>0.0</td>\n",
       "      <td>1.0</td>\n",
       "      <td>1.0</td>\n",
       "      <td>...</td>\n",
       "      <td>35 - 44 Years</td>\n",
       "      <td>12 Years</td>\n",
       "      <td>White</td>\n",
       "      <td>Male</td>\n",
       "      <td>Not Married</td>\n",
       "      <td>Employed</td>\n",
       "      <td>MSA, Not Principle  City</td>\n",
       "      <td>0.0</td>\n",
       "      <td>0.0</td>\n",
       "      <td>0</td>\n",
       "    </tr>\n",
       "    <tr>\n",
       "      <th>2</th>\n",
       "      <td>2</td>\n",
       "      <td>1.0</td>\n",
       "      <td>1.0</td>\n",
       "      <td>0.0</td>\n",
       "      <td>1.0</td>\n",
       "      <td>0.0</td>\n",
       "      <td>0.0</td>\n",
       "      <td>0.0</td>\n",
       "      <td>0.0</td>\n",
       "      <td>0.0</td>\n",
       "      <td>...</td>\n",
       "      <td>18 - 34 Years</td>\n",
       "      <td>College Graduate</td>\n",
       "      <td>White</td>\n",
       "      <td>Male</td>\n",
       "      <td>Not Married</td>\n",
       "      <td>Employed</td>\n",
       "      <td>MSA, Not Principle  City</td>\n",
       "      <td>2.0</td>\n",
       "      <td>0.0</td>\n",
       "      <td>0</td>\n",
       "    </tr>\n",
       "  </tbody>\n",
       "</table>\n",
       "<p>3 rows × 29 columns</p>\n",
       "</div>"
      ],
      "text/plain": [
       "   unique_id  h1n1_worry  h1n1_awareness  antiviral_medication  \\\n",
       "0          0         1.0             0.0                   0.0   \n",
       "1          1         3.0             2.0                   0.0   \n",
       "2          2         1.0             1.0                   0.0   \n",
       "\n",
       "   contact_avoidance  bought_face_mask  wash_hands_frequently  \\\n",
       "0                0.0               0.0                    0.0   \n",
       "1                1.0               0.0                    1.0   \n",
       "2                1.0               0.0                    0.0   \n",
       "\n",
       "   avoid_large_gatherings  reduced_outside_home_cont  avoid_touch_face  ...  \\\n",
       "0                     0.0                        1.0               1.0  ...   \n",
       "1                     0.0                        1.0               1.0  ...   \n",
       "2                     0.0                        0.0               0.0  ...   \n",
       "\n",
       "     age_bracket     qualification   race     sex  marital_status  \\\n",
       "0  55 - 64 Years        < 12 Years  White  Female     Not Married   \n",
       "1  35 - 44 Years          12 Years  White    Male     Not Married   \n",
       "2  18 - 34 Years  College Graduate  White    Male     Not Married   \n",
       "\n",
       "           employment                census_msa  no_of_adults  no_of_children  \\\n",
       "0  Not in Labor Force                   Non-MSA           0.0             0.0   \n",
       "1            Employed  MSA, Not Principle  City           0.0             0.0   \n",
       "2            Employed  MSA, Not Principle  City           2.0             0.0   \n",
       "\n",
       "  h1n1_vaccine  \n",
       "0            0  \n",
       "1            0  \n",
       "2            0  \n",
       "\n",
       "[3 rows x 29 columns]"
      ]
     },
     "execution_count": 25,
     "metadata": {},
     "output_type": "execute_result"
    }
   ],
   "source": [
    "df.head(3)"
   ]
  },
  {
   "cell_type": "code",
   "execution_count": 26,
   "id": "b3d247db",
   "metadata": {},
   "outputs": [
    {
     "name": "stdout",
     "output_type": "stream",
     "text": [
      "Index(['age_bracket', 'qualification', 'race', 'sex', 'marital_status',\n",
      "       'employment', 'census_msa'],\n",
      "      dtype='object')\n",
      "Index(['unique_id', 'h1n1_worry', 'h1n1_awareness', 'antiviral_medication',\n",
      "       'contact_avoidance', 'bought_face_mask', 'wash_hands_frequently',\n",
      "       'avoid_large_gatherings', 'reduced_outside_home_cont',\n",
      "       'avoid_touch_face', 'chronic_medic_condition',\n",
      "       'cont_child_undr_6_mnths', 'is_health_worker', 'is_h1n1_vacc_effective',\n",
      "       'is_h1n1_risky', 'sick_from_h1n1_vacc', 'is_seas_vacc_effective',\n",
      "       'is_seas_risky', 'sick_from_seas_vacc', 'no_of_adults',\n",
      "       'no_of_children', 'h1n1_vaccine'],\n",
      "      dtype='object')\n"
     ]
    }
   ],
   "source": [
    "cat_cols = df.select_dtypes(include='object').columns\n",
    "# num_cols = df.dtypes[df.dtypes!='object'].index\n",
    "num_cols = df.select_dtypes(exclude='object').columns\n",
    "print(cat_cols)\n",
    "print(num_cols)"
   ]
  },
  {
   "cell_type": "markdown",
   "id": "7ee5e8fb",
   "metadata": {},
   "source": [
    "### EDA"
   ]
  },
  {
   "cell_type": "code",
   "execution_count": 27,
   "id": "89fbf6b7",
   "metadata": {},
   "outputs": [
    {
     "data": {
      "image/png": "[encoded data removed]",
      "text/plain": [
       "<Figure size 640x480 with 1 Axes>"
      ]
     },
     "metadata": {},
     "output_type": "display_data"
    },
    {
     "data": {
      "image/png": "[encoded data removed]",
      "text/plain": [
       "<Figure size 640x480 with 1 Axes>"
      ]
     },
     "metadata": {},
     "output_type": "display_data"
    },
    {
     "data": {
      "image/png": "[encoded data removed]",
      "text/plain": [
       "<Figure size 640x480 with 1 Axes>"
      ]
     },
     "metadata": {},
     "output_type": "display_data"
    },
    {
     "data": {
      "image/png": "[encoded data removed]",
      "text/plain": [
       "<Figure size 640x480 with 1 Axes>"
      ]
     },
     "metadata": {},
     "output_type": "display_data"
    },
    {
     "data": {
      "image/png": "[encoded data removed]",
      "text/plain": [
       "<Figure size 640x480 with 1 Axes>"
      ]
     },
     "metadata": {},
     "output_type": "display_data"
    },
    {
     "data": {
      "image/png": "[encoded data removed]",
      "text/plain": [
       "<Figure size 640x480 with 1 Axes>"
      ]
     },
     "metadata": {},
     "output_type": "display_data"
    },
    {
     "data": {
      "image/png": "[encoded data removed]",
      "text/plain": [
       "<Figure size 640x480 with 1 Axes>"
      ]
     },
     "metadata": {},
     "output_type": "display_data"
    }
   ],
   "source": [
    "for i in cat_cols:\n",
    "    plt.title(f'Countplot for {i} wrt h1n1Vaccine')\n",
    "    sns.countplot(x=df[i],hue=df['h1n1_vaccine'])\n",
    "    plt.show()"
   ]
  },
  {
   "cell_type": "markdown",
   "id": "e3eb8f7a",
   "metadata": {},
   "source": [
    "#### Inferences\n",
    "1) 65+yrs age bracket has higher respondents who are vaccinated."
   ]
  },
  {
   "cell_type": "code",
   "execution_count": 55,
   "id": "3bfd29a2",
   "metadata": {},
   "outputs": [
    {
     "name": "stdout",
     "output_type": "stream",
     "text": [
      "Index(['unique_id', 'h1n1_worry', 'h1n1_awareness', 'antiviral_medication',\n",
      "       'contact_avoidance', 'bought_face_mask', 'wash_hands_frequently',\n",
      "       'avoid_large_gatherings', 'reduced_outside_home_cont',\n",
      "       'avoid_touch_face', 'chronic_medic_condition',\n",
      "       'cont_child_undr_6_mnths', 'is_health_worker', 'is_h1n1_vacc_effective',\n",
      "       'is_h1n1_risky', 'sick_from_h1n1_vacc', 'is_seas_vacc_effective',\n",
      "       'is_seas_risky', 'sick_from_seas_vacc', 'no_of_adults',\n",
      "       'no_of_children', 'h1n1_vaccine'],\n",
      "      dtype='object')\n"
     ]
    }
   ],
   "source": [
    "print(num_cols)"
   ]
  },
  {
   "cell_type": "code",
   "execution_count": 61,
   "id": "df0bd95a",
   "metadata": {},
   "outputs": [
    {
     "name": "stdout",
     "output_type": "stream",
     "text": [
      "1.0    13256\n",
      "2.0     8762\n",
      "0.0     1984\n",
      "Name: h1n1_awareness, dtype: int64\n"
     ]
    }
   ],
   "source": [
    "r = df['h1n1_awareness'].value_counts()\n",
    "print(r)"
   ]
  },
  {
   "cell_type": "code",
   "execution_count": 62,
   "id": "e3e4b37b",
   "metadata": {},
   "outputs": [
    {
     "name": "stdout",
     "output_type": "stream",
     "text": [
      "Float64Index([1.0, 2.0, 0.0], dtype='float64')\n",
      "[13256  8762  1984]\n"
     ]
    }
   ],
   "source": [
    "print(r.index)\n",
    "print(r.values)"
   ]
  },
  {
   "cell_type": "code",
   "execution_count": 63,
   "id": "495f231d",
   "metadata": {},
   "outputs": [
    {
     "data": {
      "image/png": "[encoded data removed]",
      "text/plain": [
       "<Figure size 640x480 with 1 Axes>"
      ]
     },
     "metadata": {},
     "output_type": "display_data"
    },
    {
     "data": {
      "image/png": "[encoded data removed]",
      "text/plain": [
       "<Figure size 640x480 with 1 Axes>"
      ]
     },
     "metadata": {},
     "output_type": "display_data"
    },
    {
     "data": {
      "image/png": "[encoded data removed]",
      "text/plain": [
       "<Figure size 640x480 with 1 Axes>"
      ]
     },
     "metadata": {},
     "output_type": "display_data"
    },
    {
     "data": {
      "image/png": "[encoded data removed]",
      "text/plain": [
       "<Figure size 640x480 with 1 Axes>"
      ]
     },
     "metadata": {},
     "output_type": "display_data"
    },
    {
     "data": {
      "image/png": "[encoded data removed]",
      "text/plain": [
       "<Figure size 640x480 with 1 Axes>"
      ]
     },
     "metadata": {},
     "output_type": "display_data"
    }
   ],
   "source": [
    "for i in ['h1n1_awareness','bought_face_mask','is_h1n1_vacc_effective',\n",
    "         'sick_from_h1n1_vacc', 'no_of_adults']:\n",
    "    plt.title(f'Pie Chart for {i}')\n",
    "    x = df[i].value_counts()\n",
    "    plt.pie(x.values, labels = x.index,autopct=\"%.2f%%\")\n",
    "    plt.show()"
   ]
  },
  {
   "cell_type": "markdown",
   "id": "6fd0386c",
   "metadata": {},
   "source": [
    "#### Drop Unique_ID"
   ]
  },
  {
   "cell_type": "code",
   "execution_count": 35,
   "id": "bb9eca8e",
   "metadata": {},
   "outputs": [
    {
     "data": {
      "text/plain": [
       "Index(['h1n1_worry', 'h1n1_awareness', 'antiviral_medication',\n",
       "       'contact_avoidance', 'bought_face_mask', 'wash_hands_frequently',\n",
       "       'avoid_large_gatherings', 'reduced_outside_home_cont',\n",
       "       'avoid_touch_face', 'chronic_medic_condition',\n",
       "       'cont_child_undr_6_mnths', 'is_health_worker', 'is_h1n1_vacc_effective',\n",
       "       'is_h1n1_risky', 'sick_from_h1n1_vacc', 'is_seas_vacc_effective',\n",
       "       'is_seas_risky', 'sick_from_seas_vacc', 'age_bracket', 'qualification',\n",
       "       'race', 'sex', 'marital_status', 'employment', 'census_msa',\n",
       "       'no_of_adults', 'no_of_children', 'h1n1_vaccine'],\n",
       "      dtype='object')"
      ]
     },
     "execution_count": 35,
     "metadata": {},
     "output_type": "execute_result"
    }
   ],
   "source": [
    "df.drop('unique_id',axis=1,inplace=True)\n",
    "df.columns"
   ]
  },
  {
   "cell_type": "code",
   "execution_count": 36,
   "id": "4efa3b51",
   "metadata": {},
   "outputs": [
    {
     "name": "stdout",
     "output_type": "stream",
     "text": [
      "['T', '_AXIS_LEN', '_AXIS_ORDERS', '_AXIS_TO_AXIS_NUMBER', '_HANDLED_TYPES', '__abs__', '__add__', '__and__', '__annotations__', '__array__', '__array_priority__', '__array_ufunc__', '__array_wrap__', '__bool__', '__class__', '__contains__', '__copy__', '__dataframe__', '__deepcopy__', '__delattr__', '__delitem__', '__dict__', '__dir__', '__divmod__', '__doc__', '__eq__', '__finalize__', '__floordiv__', '__format__', '__ge__', '__getattr__', '__getattribute__', '__getitem__', '__getstate__', '__gt__', '__hash__', '__iadd__', '__iand__', '__ifloordiv__', '__imod__', '__imul__', '__init__', '__init_subclass__', '__invert__', '__ior__', '__ipow__', '__isub__', '__iter__', '__itruediv__', '__ixor__', '__le__', '__len__', '__lt__', '__matmul__', '__mod__', '__module__', '__mul__', '__ne__', '__neg__', '__new__', '__nonzero__', '__or__', '__pos__', '__pow__', '__radd__', '__rand__', '__rdivmod__', '__reduce__', '__reduce_ex__', '__repr__', '__rfloordiv__', '__rmatmul__', '__rmod__', '__rmul__', '__ror__', '__round__', '__rpow__', '__rsub__', '__rtruediv__', '__rxor__', '__setattr__', '__setitem__', '__setstate__', '__sizeof__', '__str__', '__sub__', '__subclasshook__', '__truediv__', '__weakref__', '__xor__', '_accessors', '_accum_func', '_add_numeric_operations', '_agg_by_level', '_agg_examples_doc', '_agg_summary_and_see_also_doc', '_align_frame', '_align_series', '_append', '_arith_method', '_as_manager', '_attrs', '_box_col_values', '_can_fast_transpose', '_check_inplace_and_allows_duplicate_labels', '_check_inplace_setting', '_check_is_chained_assignment_possible', '_check_label_or_level_ambiguity', '_check_setitem_copy', '_clear_item_cache', '_clip_with_one_bound', '_clip_with_scalar', '_cmp_method', '_combine_frame', '_consolidate', '_consolidate_inplace', '_construct_axes_dict', '_construct_axes_from_arguments', '_construct_result', '_constructor', '_constructor_sliced', '_convert', '_count_level', '_data', '_dir_additions', '_dir_deletions', '_dispatch_frame_op', '_drop_axis', '_drop_labels_or_levels', '_ensure_valid_index', '_find_valid_index', '_flags', '_from_arrays', '_get_agg_axis', '_get_axis', '_get_axis_name', '_get_axis_number', '_get_axis_resolvers', '_get_block_manager_axis', '_get_bool_data', '_get_cleaned_column_resolvers', '_get_column_array', '_get_index_resolvers', '_get_item_cache', '_get_label_or_level_values', '_get_numeric_data', '_get_value', '_getitem_bool_array', '_getitem_multilevel', '_gotitem', '_hidden_attrs', '_indexed_same', '_info_axis', '_info_axis_name', '_info_axis_number', '_info_repr', '_init_mgr', '_inplace_method', '_internal_names', '_internal_names_set', '_is_copy', '_is_homogeneous_type', '_is_label_or_level_reference', '_is_label_reference', '_is_level_reference', '_is_mixed_type', '_is_view', '_iset_item', '_iset_item_mgr', '_iset_not_inplace', '_item_cache', '_iter_column_arrays', '_ixs', '_join_compat', '_logical_func', '_logical_method', '_maybe_cache_changed', '_maybe_update_cacher', '_metadata', '_mgr', '_min_count_stat_function', '_needs_reindex_multi', '_protect_consolidate', '_reduce', '_reduce_axis1', '_reindex_axes', '_reindex_columns', '_reindex_index', '_reindex_multi', '_reindex_with_indexers', '_rename', '_replace_columnwise', '_repr_data_resource_', '_repr_fits_horizontal_', '_repr_fits_vertical_', '_repr_html_', '_repr_latex_', '_reset_cache', '_reset_cacher', '_sanitize_column', '_series', '_set_axis', '_set_axis_name', '_set_axis_nocheck', '_set_is_copy', '_set_item', '_set_item_frame_value', '_set_item_mgr', '_set_value', '_setitem_array', '_setitem_frame', '_setitem_slice', '_slice', '_stat_axis', '_stat_axis_name', '_stat_axis_number', '_stat_function', '_stat_function_ddof', '_take', '_take_with_is_copy', '_to_dict_of_blocks', '_typ', '_update_inplace', '_validate_dtype', '_values', '_where', 'abs', 'add', 'add_prefix', 'add_suffix', 'age_bracket', 'agg', 'aggregate', 'align', 'all', 'antiviral_medication', 'any', 'append', 'apply', 'applymap', 'asfreq', 'asof', 'assign', 'astype', 'at', 'at_time', 'attrs', 'avoid_large_gatherings', 'avoid_touch_face', 'axes', 'backfill', 'between_time', 'bfill', 'bool', 'bought_face_mask', 'boxplot', 'census_msa', 'chronic_medic_condition', 'clip', 'columns', 'combine', 'combine_first', 'compare', 'cont_child_undr_6_mnths', 'contact_avoidance', 'convert_dtypes', 'copy', 'corr', 'corrwith', 'count', 'cov', 'cummax', 'cummin', 'cumprod', 'cumsum', 'describe', 'diff', 'div', 'divide', 'dot', 'drop', 'drop_duplicates', 'droplevel', 'dropna', 'dtypes', 'duplicated', 'employment', 'empty', 'eq', 'equals', 'eval', 'ewm', 'expanding', 'explode', 'ffill', 'fillna', 'filter', 'first', 'first_valid_index', 'flags', 'floordiv', 'from_dict', 'from_records', 'ge', 'get', 'groupby', 'gt', 'h1n1_awareness', 'h1n1_vaccine', 'h1n1_worry', 'head', 'hist', 'iat', 'idxmax', 'idxmin', 'iloc', 'index', 'infer_objects', 'info', 'insert', 'interpolate', 'is_h1n1_risky', 'is_h1n1_vacc_effective', 'is_health_worker', 'is_seas_risky', 'is_seas_vacc_effective', 'isetitem', 'isin', 'isna', 'isnull', 'items', 'iteritems', 'iterrows', 'itertuples', 'join', 'keys', 'kurt', 'kurtosis', 'last', 'last_valid_index', 'le', 'loc', 'lookup', 'lt', 'mad', 'marital_status', 'mask', 'max', 'mean', 'median', 'melt', 'memory_usage', 'merge', 'min', 'mod', 'mode', 'mul', 'multiply', 'ndim', 'ne', 'nlargest', 'no_of_adults', 'no_of_children', 'notna', 'notnull', 'nsmallest', 'nunique', 'pad', 'pct_change', 'pipe', 'pivot', 'pivot_table', 'plot', 'pop', 'pow', 'prod', 'product', 'qualification', 'quantile', 'query', 'race', 'radd', 'rank', 'rdiv', 'reduced_outside_home_cont', 'reindex', 'reindex_like', 'rename', 'rename_axis', 'reorder_levels', 'replace', 'resample', 'reset_index', 'rfloordiv', 'rmod', 'rmul', 'rolling', 'round', 'rpow', 'rsub', 'rtruediv', 'sample', 'select_dtypes', 'sem', 'set_axis', 'set_flags', 'set_index', 'sex', 'shape', 'shift', 'sick_from_h1n1_vacc', 'sick_from_seas_vacc', 'size', 'skew', 'slice_shift', 'sort_index', 'sort_values', 'squeeze', 'stack', 'std', 'style', 'sub', 'subtract', 'sum', 'swapaxes', 'swaplevel', 'tail', 'take', 'to_clipboard', 'to_csv', 'to_dict', 'to_excel', 'to_feather', 'to_gbq', 'to_hdf', 'to_html', 'to_json', 'to_latex', 'to_markdown', 'to_numpy', 'to_orc', 'to_parquet', 'to_period', 'to_pickle', 'to_records', 'to_sql', 'to_stata', 'to_string', 'to_timestamp', 'to_xarray', 'to_xml', 'transform', 'transpose', 'truediv', 'truncate', 'tz_convert', 'tz_localize', 'unstack', 'update', 'value_counts', 'values', 'var', 'wash_hands_frequently', 'where', 'xs']\n"
     ]
    }
   ],
   "source": [
    "print(dir(df))"
   ]
  },
  {
   "cell_type": "code",
   "execution_count": 37,
   "id": "4298ea6d",
   "metadata": {},
   "outputs": [
    {
     "data": {
      "text/plain": [
       "Index(['unique_id', 'h1n1_worry', 'h1n1_awareness', 'antiviral_medication',\n",
       "       'contact_avoidance', 'bought_face_mask', 'wash_hands_frequently',\n",
       "       'avoid_large_gatherings', 'reduced_outside_home_cont',\n",
       "       'avoid_touch_face', 'dr_recc_h1n1_vacc', 'dr_recc_seasonal_vacc',\n",
       "       'chronic_medic_condition', 'cont_child_undr_6_mnths',\n",
       "       'is_health_worker', 'has_health_insur', 'is_h1n1_vacc_effective',\n",
       "       'is_h1n1_risky', 'sick_from_h1n1_vacc', 'is_seas_vacc_effective',\n",
       "       'is_seas_risky', 'sick_from_seas_vacc', 'age_bracket', 'qualification',\n",
       "       'race', 'sex', 'income_level', 'marital_status', 'housing_status',\n",
       "       'employment', 'census_msa', 'no_of_adults', 'no_of_children',\n",
       "       'h1n1_vaccine'],\n",
       "      dtype='object')"
      ]
     },
     "execution_count": 37,
     "metadata": {},
     "output_type": "execute_result"
    }
   ],
   "source": [
    "df2 = df.copy()\n",
    "df1.columns"
   ]
  },
  {
   "cell_type": "code",
   "execution_count": 38,
   "id": "a2887bf4",
   "metadata": {},
   "outputs": [
    {
     "data": {
      "text/html": [
       "<div>\n",
       "<style scoped>\n",
       "    .dataframe tbody tr th:only-of-type {\n",
       "        vertical-align: middle;\n",
       "    }\n",
       "\n",
       "    .dataframe tbody tr th {\n",
       "        vertical-align: top;\n",
       "    }\n",
       "\n",
       "    .dataframe thead th {\n",
       "        text-align: right;\n",
       "    }\n",
       "</style>\n",
       "<table border=\"1\" class=\"dataframe\">\n",
       "  <thead>\n",
       "    <tr style=\"text-align: right;\">\n",
       "      <th></th>\n",
       "      <th>age_bracket</th>\n",
       "      <th>antiviral_medication</th>\n",
       "      <th>avoid_large_gatherings</th>\n",
       "      <th>avoid_touch_face</th>\n",
       "      <th>bought_face_mask</th>\n",
       "      <th>census_msa</th>\n",
       "      <th>chronic_medic_condition</th>\n",
       "      <th>cont_child_undr_6_mnths</th>\n",
       "      <th>contact_avoidance</th>\n",
       "      <th>employment</th>\n",
       "      <th>...</th>\n",
       "      <th>marital_status</th>\n",
       "      <th>no_of_adults</th>\n",
       "      <th>no_of_children</th>\n",
       "      <th>qualification</th>\n",
       "      <th>race</th>\n",
       "      <th>reduced_outside_home_cont</th>\n",
       "      <th>sex</th>\n",
       "      <th>sick_from_h1n1_vacc</th>\n",
       "      <th>sick_from_seas_vacc</th>\n",
       "      <th>wash_hands_frequently</th>\n",
       "    </tr>\n",
       "  </thead>\n",
       "  <tbody>\n",
       "    <tr>\n",
       "      <th>0</th>\n",
       "      <td>55 - 64 Years</td>\n",
       "      <td>0.0</td>\n",
       "      <td>0.0</td>\n",
       "      <td>1.0</td>\n",
       "      <td>0.0</td>\n",
       "      <td>Non-MSA</td>\n",
       "      <td>0.0</td>\n",
       "      <td>0.0</td>\n",
       "      <td>0.0</td>\n",
       "      <td>Not in Labor Force</td>\n",
       "      <td>...</td>\n",
       "      <td>Not Married</td>\n",
       "      <td>0.0</td>\n",
       "      <td>0.0</td>\n",
       "      <td>&lt; 12 Years</td>\n",
       "      <td>White</td>\n",
       "      <td>1.0</td>\n",
       "      <td>Female</td>\n",
       "      <td>2.0</td>\n",
       "      <td>2.0</td>\n",
       "      <td>0.0</td>\n",
       "    </tr>\n",
       "    <tr>\n",
       "      <th>1</th>\n",
       "      <td>35 - 44 Years</td>\n",
       "      <td>0.0</td>\n",
       "      <td>0.0</td>\n",
       "      <td>1.0</td>\n",
       "      <td>0.0</td>\n",
       "      <td>MSA, Not Principle  City</td>\n",
       "      <td>0.0</td>\n",
       "      <td>0.0</td>\n",
       "      <td>1.0</td>\n",
       "      <td>Employed</td>\n",
       "      <td>...</td>\n",
       "      <td>Not Married</td>\n",
       "      <td>0.0</td>\n",
       "      <td>0.0</td>\n",
       "      <td>12 Years</td>\n",
       "      <td>White</td>\n",
       "      <td>1.0</td>\n",
       "      <td>Male</td>\n",
       "      <td>4.0</td>\n",
       "      <td>4.0</td>\n",
       "      <td>1.0</td>\n",
       "    </tr>\n",
       "  </tbody>\n",
       "</table>\n",
       "<p>2 rows × 28 columns</p>\n",
       "</div>"
      ],
      "text/plain": [
       "     age_bracket  antiviral_medication  avoid_large_gatherings  \\\n",
       "0  55 - 64 Years                   0.0                     0.0   \n",
       "1  35 - 44 Years                   0.0                     0.0   \n",
       "\n",
       "   avoid_touch_face  bought_face_mask                census_msa  \\\n",
       "0               1.0               0.0                   Non-MSA   \n",
       "1               1.0               0.0  MSA, Not Principle  City   \n",
       "\n",
       "   chronic_medic_condition  cont_child_undr_6_mnths  contact_avoidance  \\\n",
       "0                      0.0                      0.0                0.0   \n",
       "1                      0.0                      0.0                1.0   \n",
       "\n",
       "           employment  ...  marital_status  no_of_adults  no_of_children  \\\n",
       "0  Not in Labor Force  ...     Not Married           0.0             0.0   \n",
       "1            Employed  ...     Not Married           0.0             0.0   \n",
       "\n",
       "   qualification   race  reduced_outside_home_cont     sex  \\\n",
       "0     < 12 Years  White                        1.0  Female   \n",
       "1       12 Years  White                        1.0    Male   \n",
       "\n",
       "   sick_from_h1n1_vacc sick_from_seas_vacc  wash_hands_frequently  \n",
       "0                  2.0                 2.0                    0.0  \n",
       "1                  4.0                 4.0                    1.0  \n",
       "\n",
       "[2 rows x 28 columns]"
      ]
     },
     "execution_count": 38,
     "metadata": {},
     "output_type": "execute_result"
    }
   ],
   "source": [
    "df2.sort_index(axis=1,inplace=True)\n",
    "df2.head(2)"
   ]
  },
  {
   "cell_type": "code",
   "execution_count": 39,
   "id": "43f14be2",
   "metadata": {},
   "outputs": [
    {
     "data": {
      "text/plain": [
       "Index(['age_bracket', 'antiviral_medication', 'avoid_large_gatherings',\n",
       "       'avoid_touch_face', 'bought_face_mask', 'census_msa',\n",
       "       'chronic_medic_condition', 'cont_child_undr_6_mnths',\n",
       "       'contact_avoidance', 'employment', 'h1n1_awareness', 'h1n1_vaccine',\n",
       "       'h1n1_worry', 'is_h1n1_risky', 'is_h1n1_vacc_effective',\n",
       "       'is_health_worker', 'is_seas_risky', 'is_seas_vacc_effective',\n",
       "       'marital_status', 'no_of_adults', 'no_of_children', 'qualification',\n",
       "       'race', 'reduced_outside_home_cont', 'sex', 'sick_from_h1n1_vacc',\n",
       "       'sick_from_seas_vacc', 'wash_hands_frequently'],\n",
       "      dtype='object')"
      ]
     },
     "execution_count": 39,
     "metadata": {},
     "output_type": "execute_result"
    }
   ],
   "source": [
    "df2.columns"
   ]
  },
  {
   "cell_type": "code",
   "execution_count": 40,
   "id": "87e1f532",
   "metadata": {},
   "outputs": [
    {
     "data": {
      "text/html": [
       "<div>\n",
       "<style scoped>\n",
       "    .dataframe tbody tr th:only-of-type {\n",
       "        vertical-align: middle;\n",
       "    }\n",
       "\n",
       "    .dataframe tbody tr th {\n",
       "        vertical-align: top;\n",
       "    }\n",
       "\n",
       "    .dataframe thead th {\n",
       "        text-align: right;\n",
       "    }\n",
       "</style>\n",
       "<table border=\"1\" class=\"dataframe\">\n",
       "  <thead>\n",
       "    <tr style=\"text-align: right;\">\n",
       "      <th></th>\n",
       "      <th>age_bracket</th>\n",
       "      <th>antiviral_medication</th>\n",
       "      <th>avoid_large_gatherings</th>\n",
       "      <th>avoid_touch_face</th>\n",
       "      <th>bought_face_mask</th>\n",
       "      <th>census_msa</th>\n",
       "      <th>chronic_medic_condition</th>\n",
       "      <th>cont_child_undr_6_mnths</th>\n",
       "      <th>contact_avoidance</th>\n",
       "      <th>employment</th>\n",
       "      <th>...</th>\n",
       "      <th>marital_status</th>\n",
       "      <th>no_of_adults</th>\n",
       "      <th>no_of_children</th>\n",
       "      <th>qualification</th>\n",
       "      <th>race</th>\n",
       "      <th>reduced_outside_home_cont</th>\n",
       "      <th>sex</th>\n",
       "      <th>sick_from_h1n1_vacc</th>\n",
       "      <th>sick_from_seas_vacc</th>\n",
       "      <th>wash_hands_frequently</th>\n",
       "    </tr>\n",
       "  </thead>\n",
       "  <tbody>\n",
       "    <tr>\n",
       "      <th>0</th>\n",
       "      <td>55 - 64 Years</td>\n",
       "      <td>0.0</td>\n",
       "      <td>0.0</td>\n",
       "      <td>1.0</td>\n",
       "      <td>0.0</td>\n",
       "      <td>Non-MSA</td>\n",
       "      <td>0.0</td>\n",
       "      <td>0.0</td>\n",
       "      <td>0.0</td>\n",
       "      <td>Not in Labor Force</td>\n",
       "      <td>...</td>\n",
       "      <td>Not Married</td>\n",
       "      <td>0.0</td>\n",
       "      <td>0.0</td>\n",
       "      <td>&lt; 12 Years</td>\n",
       "      <td>White</td>\n",
       "      <td>1.0</td>\n",
       "      <td>Female</td>\n",
       "      <td>2.0</td>\n",
       "      <td>2.0</td>\n",
       "      <td>0.0</td>\n",
       "    </tr>\n",
       "    <tr>\n",
       "      <th>1</th>\n",
       "      <td>35 - 44 Years</td>\n",
       "      <td>0.0</td>\n",
       "      <td>0.0</td>\n",
       "      <td>1.0</td>\n",
       "      <td>0.0</td>\n",
       "      <td>MSA, Not Principle  City</td>\n",
       "      <td>0.0</td>\n",
       "      <td>0.0</td>\n",
       "      <td>1.0</td>\n",
       "      <td>Employed</td>\n",
       "      <td>...</td>\n",
       "      <td>Not Married</td>\n",
       "      <td>0.0</td>\n",
       "      <td>0.0</td>\n",
       "      <td>12 Years</td>\n",
       "      <td>White</td>\n",
       "      <td>1.0</td>\n",
       "      <td>Male</td>\n",
       "      <td>4.0</td>\n",
       "      <td>4.0</td>\n",
       "      <td>1.0</td>\n",
       "    </tr>\n",
       "    <tr>\n",
       "      <th>2</th>\n",
       "      <td>18 - 34 Years</td>\n",
       "      <td>0.0</td>\n",
       "      <td>0.0</td>\n",
       "      <td>0.0</td>\n",
       "      <td>0.0</td>\n",
       "      <td>MSA, Not Principle  City</td>\n",
       "      <td>1.0</td>\n",
       "      <td>0.0</td>\n",
       "      <td>1.0</td>\n",
       "      <td>Employed</td>\n",
       "      <td>...</td>\n",
       "      <td>Not Married</td>\n",
       "      <td>2.0</td>\n",
       "      <td>0.0</td>\n",
       "      <td>College Graduate</td>\n",
       "      <td>White</td>\n",
       "      <td>0.0</td>\n",
       "      <td>Male</td>\n",
       "      <td>1.0</td>\n",
       "      <td>2.0</td>\n",
       "      <td>0.0</td>\n",
       "    </tr>\n",
       "  </tbody>\n",
       "</table>\n",
       "<p>3 rows × 28 columns</p>\n",
       "</div>"
      ],
      "text/plain": [
       "     age_bracket  antiviral_medication  avoid_large_gatherings  \\\n",
       "0  55 - 64 Years                   0.0                     0.0   \n",
       "1  35 - 44 Years                   0.0                     0.0   \n",
       "2  18 - 34 Years                   0.0                     0.0   \n",
       "\n",
       "   avoid_touch_face  bought_face_mask                census_msa  \\\n",
       "0               1.0               0.0                   Non-MSA   \n",
       "1               1.0               0.0  MSA, Not Principle  City   \n",
       "2               0.0               0.0  MSA, Not Principle  City   \n",
       "\n",
       "   chronic_medic_condition  cont_child_undr_6_mnths  contact_avoidance  \\\n",
       "0                      0.0                      0.0                0.0   \n",
       "1                      0.0                      0.0                1.0   \n",
       "2                      1.0                      0.0                1.0   \n",
       "\n",
       "           employment  ...  marital_status  no_of_adults  no_of_children  \\\n",
       "0  Not in Labor Force  ...     Not Married           0.0             0.0   \n",
       "1            Employed  ...     Not Married           0.0             0.0   \n",
       "2            Employed  ...     Not Married           2.0             0.0   \n",
       "\n",
       "      qualification   race  reduced_outside_home_cont     sex  \\\n",
       "0        < 12 Years  White                        1.0  Female   \n",
       "1          12 Years  White                        1.0    Male   \n",
       "2  College Graduate  White                        0.0    Male   \n",
       "\n",
       "   sick_from_h1n1_vacc sick_from_seas_vacc  wash_hands_frequently  \n",
       "0                  2.0                 2.0                    0.0  \n",
       "1                  4.0                 4.0                    1.0  \n",
       "2                  1.0                 2.0                    0.0  \n",
       "\n",
       "[3 rows x 28 columns]"
      ]
     },
     "execution_count": 40,
     "metadata": {},
     "output_type": "execute_result"
    }
   ],
   "source": [
    "df2.head(3)"
   ]
  },
  {
   "cell_type": "code",
   "execution_count": 41,
   "id": "efb6946a",
   "metadata": {},
   "outputs": [],
   "source": [
    "# df2.truncate(before=\"census_msa\", axis=\"columns\")"
   ]
  },
  {
   "cell_type": "code",
   "execution_count": 42,
   "id": "811334b0",
   "metadata": {},
   "outputs": [
    {
     "data": {
      "text/html": [
       "<div>\n",
       "<style scoped>\n",
       "    .dataframe tbody tr th:only-of-type {\n",
       "        vertical-align: middle;\n",
       "    }\n",
       "\n",
       "    .dataframe tbody tr th {\n",
       "        vertical-align: top;\n",
       "    }\n",
       "\n",
       "    .dataframe thead th {\n",
       "        text-align: right;\n",
       "    }\n",
       "</style>\n",
       "<table border=\"1\" class=\"dataframe\">\n",
       "  <thead>\n",
       "    <tr style=\"text-align: right;\">\n",
       "      <th></th>\n",
       "      <th>age_bracket</th>\n",
       "      <th>avoid_large_gatherings</th>\n",
       "      <th>avoid_touch_face</th>\n",
       "      <th>bought_face_mask</th>\n",
       "      <th>census_msa</th>\n",
       "      <th>chronic_medic_condition</th>\n",
       "      <th>cont_child_undr_6_mnths</th>\n",
       "      <th>contact_avoidance</th>\n",
       "      <th>employment</th>\n",
       "      <th>h1n1_awareness</th>\n",
       "      <th>...</th>\n",
       "      <th>marital_status</th>\n",
       "      <th>no_of_adults</th>\n",
       "      <th>no_of_children</th>\n",
       "      <th>qualification</th>\n",
       "      <th>race</th>\n",
       "      <th>reduced_outside_home_cont</th>\n",
       "      <th>sex</th>\n",
       "      <th>sick_from_h1n1_vacc</th>\n",
       "      <th>sick_from_seas_vacc</th>\n",
       "      <th>wash_hands_frequently</th>\n",
       "    </tr>\n",
       "  </thead>\n",
       "  <tbody>\n",
       "    <tr>\n",
       "      <th>0</th>\n",
       "      <td>55 - 64 Years</td>\n",
       "      <td>0.0</td>\n",
       "      <td>1.0</td>\n",
       "      <td>0.0</td>\n",
       "      <td>Non-MSA</td>\n",
       "      <td>0.0</td>\n",
       "      <td>0.0</td>\n",
       "      <td>0.0</td>\n",
       "      <td>Not in Labor Force</td>\n",
       "      <td>0.0</td>\n",
       "      <td>...</td>\n",
       "      <td>Not Married</td>\n",
       "      <td>0.0</td>\n",
       "      <td>0.0</td>\n",
       "      <td>&lt; 12 Years</td>\n",
       "      <td>White</td>\n",
       "      <td>1.0</td>\n",
       "      <td>Female</td>\n",
       "      <td>2.0</td>\n",
       "      <td>2.0</td>\n",
       "      <td>0.0</td>\n",
       "    </tr>\n",
       "    <tr>\n",
       "      <th>1</th>\n",
       "      <td>35 - 44 Years</td>\n",
       "      <td>0.0</td>\n",
       "      <td>1.0</td>\n",
       "      <td>0.0</td>\n",
       "      <td>MSA, Not Principle  City</td>\n",
       "      <td>0.0</td>\n",
       "      <td>0.0</td>\n",
       "      <td>1.0</td>\n",
       "      <td>Employed</td>\n",
       "      <td>2.0</td>\n",
       "      <td>...</td>\n",
       "      <td>Not Married</td>\n",
       "      <td>0.0</td>\n",
       "      <td>0.0</td>\n",
       "      <td>12 Years</td>\n",
       "      <td>White</td>\n",
       "      <td>1.0</td>\n",
       "      <td>Male</td>\n",
       "      <td>4.0</td>\n",
       "      <td>4.0</td>\n",
       "      <td>1.0</td>\n",
       "    </tr>\n",
       "    <tr>\n",
       "      <th>2</th>\n",
       "      <td>18 - 34 Years</td>\n",
       "      <td>0.0</td>\n",
       "      <td>0.0</td>\n",
       "      <td>0.0</td>\n",
       "      <td>MSA, Not Principle  City</td>\n",
       "      <td>1.0</td>\n",
       "      <td>0.0</td>\n",
       "      <td>1.0</td>\n",
       "      <td>Employed</td>\n",
       "      <td>1.0</td>\n",
       "      <td>...</td>\n",
       "      <td>Not Married</td>\n",
       "      <td>2.0</td>\n",
       "      <td>0.0</td>\n",
       "      <td>College Graduate</td>\n",
       "      <td>White</td>\n",
       "      <td>0.0</td>\n",
       "      <td>Male</td>\n",
       "      <td>1.0</td>\n",
       "      <td>2.0</td>\n",
       "      <td>0.0</td>\n",
       "    </tr>\n",
       "    <tr>\n",
       "      <th>3</th>\n",
       "      <td>65+ Years</td>\n",
       "      <td>1.0</td>\n",
       "      <td>0.0</td>\n",
       "      <td>0.0</td>\n",
       "      <td>MSA, Principle City</td>\n",
       "      <td>1.0</td>\n",
       "      <td>0.0</td>\n",
       "      <td>1.0</td>\n",
       "      <td>Not in Labor Force</td>\n",
       "      <td>1.0</td>\n",
       "      <td>...</td>\n",
       "      <td>Not Married</td>\n",
       "      <td>0.0</td>\n",
       "      <td>0.0</td>\n",
       "      <td>12 Years</td>\n",
       "      <td>White</td>\n",
       "      <td>0.0</td>\n",
       "      <td>Female</td>\n",
       "      <td>5.0</td>\n",
       "      <td>1.0</td>\n",
       "      <td>1.0</td>\n",
       "    </tr>\n",
       "    <tr>\n",
       "      <th>4</th>\n",
       "      <td>45 - 54 Years</td>\n",
       "      <td>1.0</td>\n",
       "      <td>1.0</td>\n",
       "      <td>0.0</td>\n",
       "      <td>MSA, Not Principle  City</td>\n",
       "      <td>0.0</td>\n",
       "      <td>0.0</td>\n",
       "      <td>1.0</td>\n",
       "      <td>Employed</td>\n",
       "      <td>1.0</td>\n",
       "      <td>...</td>\n",
       "      <td>Married</td>\n",
       "      <td>1.0</td>\n",
       "      <td>0.0</td>\n",
       "      <td>Some College</td>\n",
       "      <td>White</td>\n",
       "      <td>0.0</td>\n",
       "      <td>Female</td>\n",
       "      <td>2.0</td>\n",
       "      <td>4.0</td>\n",
       "      <td>1.0</td>\n",
       "    </tr>\n",
       "  </tbody>\n",
       "</table>\n",
       "<p>5 rows × 27 columns</p>\n",
       "</div>"
      ],
      "text/plain": [
       "     age_bracket  avoid_large_gatherings  avoid_touch_face  bought_face_mask  \\\n",
       "0  55 - 64 Years                     0.0               1.0               0.0   \n",
       "1  35 - 44 Years                     0.0               1.0               0.0   \n",
       "2  18 - 34 Years                     0.0               0.0               0.0   \n",
       "3      65+ Years                     1.0               0.0               0.0   \n",
       "4  45 - 54 Years                     1.0               1.0               0.0   \n",
       "\n",
       "                 census_msa  chronic_medic_condition  cont_child_undr_6_mnths  \\\n",
       "0                   Non-MSA                      0.0                      0.0   \n",
       "1  MSA, Not Principle  City                      0.0                      0.0   \n",
       "2  MSA, Not Principle  City                      1.0                      0.0   \n",
       "3       MSA, Principle City                      1.0                      0.0   \n",
       "4  MSA, Not Principle  City                      0.0                      0.0   \n",
       "\n",
       "   contact_avoidance          employment  h1n1_awareness  ...  marital_status  \\\n",
       "0                0.0  Not in Labor Force             0.0  ...     Not Married   \n",
       "1                1.0            Employed             2.0  ...     Not Married   \n",
       "2                1.0            Employed             1.0  ...     Not Married   \n",
       "3                1.0  Not in Labor Force             1.0  ...     Not Married   \n",
       "4                1.0            Employed             1.0  ...         Married   \n",
       "\n",
       "   no_of_adults  no_of_children     qualification   race  \\\n",
       "0           0.0             0.0        < 12 Years  White   \n",
       "1           0.0             0.0          12 Years  White   \n",
       "2           2.0             0.0  College Graduate  White   \n",
       "3           0.0             0.0          12 Years  White   \n",
       "4           1.0             0.0      Some College  White   \n",
       "\n",
       "   reduced_outside_home_cont     sex sick_from_h1n1_vacc  sick_from_seas_vacc  \\\n",
       "0                        1.0  Female                 2.0                  2.0   \n",
       "1                        1.0    Male                 4.0                  4.0   \n",
       "2                        0.0    Male                 1.0                  2.0   \n",
       "3                        0.0  Female                 5.0                  1.0   \n",
       "4                        0.0  Female                 2.0                  4.0   \n",
       "\n",
       "   wash_hands_frequently  \n",
       "0                    0.0  \n",
       "1                    1.0  \n",
       "2                    0.0  \n",
       "3                    1.0  \n",
       "4                    1.0  \n",
       "\n",
       "[5 rows x 27 columns]"
      ]
     },
     "execution_count": 42,
     "metadata": {},
     "output_type": "execute_result"
    }
   ],
   "source": [
    "df2.pop('antiviral_medication')\n",
    "df2.head()"
   ]
  },
  {
   "cell_type": "code",
   "execution_count": 43,
   "id": "768f8706",
   "metadata": {},
   "outputs": [],
   "source": [
    "# print(dir(df))"
   ]
  },
  {
   "cell_type": "code",
   "execution_count": 44,
   "id": "4413d7ec",
   "metadata": {},
   "outputs": [],
   "source": [
    "# df2.dot()"
   ]
  },
  {
   "cell_type": "code",
   "execution_count": null,
   "id": "1fd48a49",
   "metadata": {},
   "outputs": [],
   "source": []
  },
  {
   "cell_type": "markdown",
   "id": "9ab3864e",
   "metadata": {},
   "source": [
    "#### Correlation"
   ]
  },
  {
   "cell_type": "code",
   "execution_count": 45,
   "id": "d5e82092",
   "metadata": {},
   "outputs": [
    {
     "name": "stderr",
     "output_type": "stream",
     "text": [
      "C:\\Users\\Dell\\AppData\\Local\\Temp\\ipykernel_29908\\1269641288.py:1: FutureWarning: The default value of numeric_only in DataFrame.corr is deprecated. In a future version, it will default to False. Select only valid columns or specify the value of numeric_only to silence this warning.\n",
      "  corr = df.corr()\n"
     ]
    },
    {
     "data": {
      "image/png": "[encoded data removed]",
      "text/plain": [
       "<Figure size 1600x1600 with 2 Axes>"
      ]
     },
     "metadata": {},
     "output_type": "display_data"
    }
   ],
   "source": [
    "corr = df.corr()\n",
    "\n",
    "plt.figure(figsize=(16,16))\n",
    "sns.heatmap(corr[abs(corr)>0.5],annot=True,cmap='coolwarm')\n",
    "plt.show()"
   ]
  },
  {
   "cell_type": "code",
   "execution_count": 46,
   "id": "56fcd682",
   "metadata": {},
   "outputs": [
    {
     "data": {
      "text/plain": [
       "Index(['h1n1_worry', 'h1n1_awareness', 'antiviral_medication',\n",
       "       'contact_avoidance', 'bought_face_mask', 'wash_hands_frequently',\n",
       "       'avoid_large_gatherings', 'reduced_outside_home_cont',\n",
       "       'avoid_touch_face', 'chronic_medic_condition',\n",
       "       'cont_child_undr_6_mnths', 'is_health_worker', 'is_h1n1_vacc_effective',\n",
       "       'is_h1n1_risky', 'sick_from_h1n1_vacc', 'is_seas_vacc_effective',\n",
       "       'is_seas_risky', 'sick_from_seas_vacc', 'age_bracket', 'qualification',\n",
       "       'race', 'sex', 'marital_status', 'employment', 'census_msa',\n",
       "       'no_of_adults', 'no_of_children', 'h1n1_vaccine'],\n",
       "      dtype='object')"
      ]
     },
     "execution_count": 46,
     "metadata": {},
     "output_type": "execute_result"
    }
   ],
   "source": [
    "df.columns"
   ]
  },
  {
   "cell_type": "markdown",
   "id": "a90e6bba",
   "metadata": {},
   "source": [
    "#### Encoding Catgeorical Columns"
   ]
  },
  {
   "cell_type": "code",
   "execution_count": 47,
   "id": "cb5c77af",
   "metadata": {},
   "outputs": [
    {
     "name": "stdout",
     "output_type": "stream",
     "text": [
      "37\n"
     ]
    },
    {
     "data": {
      "text/plain": [
       "Index(['h1n1_worry', 'h1n1_awareness', 'antiviral_medication',\n",
       "       'contact_avoidance', 'bought_face_mask', 'wash_hands_frequently',\n",
       "       'avoid_large_gatherings', 'reduced_outside_home_cont',\n",
       "       'avoid_touch_face', 'chronic_medic_condition',\n",
       "       'cont_child_undr_6_mnths', 'is_health_worker', 'is_h1n1_vacc_effective',\n",
       "       'is_h1n1_risky', 'sick_from_h1n1_vacc', 'is_seas_vacc_effective',\n",
       "       'is_seas_risky', 'sick_from_seas_vacc', 'no_of_adults',\n",
       "       'no_of_children', 'h1n1_vaccine', 'age_bracket_35 - 44 Years',\n",
       "       'age_bracket_45 - 54 Years', 'age_bracket_55 - 64 Years',\n",
       "       'age_bracket_65+ Years', 'qualification_< 12 Years',\n",
       "       'qualification_College Graduate', 'qualification_Some College',\n",
       "       'race_Hispanic', 'race_Other or Multiple', 'race_White', 'sex_Male',\n",
       "       'marital_status_Not Married', 'employment_Not in Labor Force',\n",
       "       'employment_Unemployed', 'census_msa_MSA, Principle City',\n",
       "       'census_msa_Non-MSA'],\n",
       "      dtype='object')"
      ]
     },
     "execution_count": 47,
     "metadata": {},
     "output_type": "execute_result"
    }
   ],
   "source": [
    "df_dum = pd.get_dummies(df,columns=cat_cols,drop_first=True)\n",
    "print(len(df_dum.columns))\n",
    "df_dum.columns"
   ]
  },
  {
   "cell_type": "markdown",
   "id": "cbe2e9df",
   "metadata": {},
   "source": [
    "#### Select x(dependent variable) and y(independent variable)"
   ]
  },
  {
   "cell_type": "code",
   "execution_count": 48,
   "id": "d47b1964",
   "metadata": {},
   "outputs": [
    {
     "name": "stdout",
     "output_type": "stream",
     "text": [
      "<class 'pandas.core.frame.DataFrame'>\n",
      "<class 'pandas.core.series.Series'>\n",
      "(24002, 36)\n",
      "(24002,)\n"
     ]
    }
   ],
   "source": [
    "x = df_dum.drop('h1n1_vaccine',axis=1)\n",
    "y = df_dum['h1n1_vaccine']\n",
    "print(type(x))\n",
    "print(type(y))\n",
    "print(x.shape)\n",
    "print(y.shape)"
   ]
  },
  {
   "cell_type": "markdown",
   "id": "02e6b958",
   "metadata": {},
   "source": [
    "#### Split data into train and test"
   ]
  },
  {
   "cell_type": "code",
   "execution_count": 49,
   "id": "ca7a1359",
   "metadata": {},
   "outputs": [],
   "source": [
    "from sklearn.model_selection import train_test_split"
   ]
  },
  {
   "cell_type": "code",
   "execution_count": 50,
   "id": "25c4a6de",
   "metadata": {},
   "outputs": [
    {
     "name": "stdout",
     "output_type": "stream",
     "text": [
      "(16801, 36)\n",
      "(7201, 36)\n",
      "(16801,)\n",
      "(7201,)\n"
     ]
    }
   ],
   "source": [
    "x_train,x_test,y_train,y_test = train_test_split(x,y,test_size=0.30,random_state=42)\n",
    "print(x_train.shape)\n",
    "print(x_test.shape)\n",
    "print(y_train.shape)\n",
    "print(y_test.shape)"
   ]
  },
  {
   "cell_type": "markdown",
   "id": "d55b9f83",
   "metadata": {},
   "source": [
    "#### Model Building"
   ]
  },
  {
   "cell_type": "code",
   "execution_count": 51,
   "id": "d552f170",
   "metadata": {},
   "outputs": [],
   "source": [
    "from sklearn.linear_model import LogisticRegression"
   ]
  },
  {
   "cell_type": "code",
   "execution_count": 52,
   "id": "9f0af313",
   "metadata": {},
   "outputs": [],
   "source": [
    "from  sklearn.metrics import confusion_matrix,classification_report,roc_curve,roc_auc_score"
   ]
  },
  {
   "cell_type": "code",
   "execution_count": 58,
   "id": "18dfe08f",
   "metadata": {},
   "outputs": [],
   "source": [
    "def gen_and_eval_model(model,x_train,x_test,y_train,y_test):\n",
    "    model.fit(x_train,y_train)\n",
    "    print('Train acc',model.score(x_train,y_train))\n",
    "    print('Test acc',model.score(x_test,y_test))\n",
    "    ypred = model.predict(x_test)\n",
    "    cm = confusion_matrix(y_test,ypred)\n",
    "    print('Confusion Matrix\\n',cm)\n",
    "    print('Classification Report\\n',classification_report(y_test,ypred))\n",
    "    "
   ]
  },
  {
   "cell_type": "code",
   "execution_count": 109,
   "id": "2a851db0",
   "metadata": {},
   "outputs": [
    {
     "data": {
      "text/plain": [
       "0    0.785185\n",
       "1    0.214815\n",
       "Name: h1n1_vaccine, dtype: float64"
      ]
     },
     "execution_count": 109,
     "metadata": {},
     "output_type": "execute_result"
    }
   ],
   "source": [
    "df['h1n1_vaccine'].value_counts(normalize=True)"
   ]
  },
  {
   "cell_type": "code",
   "execution_count": 55,
   "id": "f3b28a3a",
   "metadata": {},
   "outputs": [
    {
     "data": {
      "text/plain": [
       "(24002, 28)"
      ]
     },
     "execution_count": 55,
     "metadata": {},
     "output_type": "execute_result"
    }
   ],
   "source": [
    "df.shape"
   ]
  },
  {
   "cell_type": "code",
   "execution_count": 57,
   "id": "8a16bc46",
   "metadata": {},
   "outputs": [
    {
     "name": "stdout",
     "output_type": "stream",
     "text": [
      "Train acc 0.8150110112493304\n",
      "Test acc 0.814331342869046\n",
      "Confusion Matrix\n",
      " [[5363  308]\n",
      " [1029  501]]\n",
      "Classification Report\n",
      "               precision    recall  f1-score   support\n",
      "\n",
      "           0       0.84      0.95      0.89      5671\n",
      "           1       0.62      0.33      0.43      1530\n",
      "\n",
      "    accuracy                           0.81      7201\n",
      "   macro avg       0.73      0.64      0.66      7201\n",
      "weighted avg       0.79      0.81      0.79      7201\n",
      "\n"
     ]
    }
   ],
   "source": [
    "lr = LogisticRegression(max_iter=10000)\n",
    "gen_and_eval_model(lr,x_train,x_test,y_train,y_test)\n",
    "# 0-Negative, 1-Positive\n",
    "# [TN=5363 FP=308]\n",
    "# [FN=1029 TP=501]"
   ]
  },
  {
   "cell_type": "code",
   "execution_count": 110,
   "id": "4c2f23c3",
   "metadata": {},
   "outputs": [],
   "source": [
    "# LogReg_m1 \t0.814331 \t0.619283 \t0.327451"
   ]
  },
  {
   "cell_type": "markdown",
   "id": "b514f77a",
   "metadata": {},
   "source": [
    "#### Infernece\n",
    "1) Model performs well(can be relied upon) for respondents with h1n1_vaccine=0<br>\n",
    "2) Model performs poorly for respondents with h1n1_vaccine=1."
   ]
  },
  {
   "cell_type": "code",
   "execution_count": 59,
   "id": "b2e2d8c3",
   "metadata": {},
   "outputs": [
    {
     "name": "stdout",
     "output_type": "stream",
     "text": [
      "0.18566865713095404\n"
     ]
    }
   ],
   "source": [
    "miscls_rate = (308+1029)/(308+1029+5363+501)\n",
    "print(miscls_rate)"
   ]
  },
  {
   "cell_type": "markdown",
   "id": "4607a852",
   "metadata": {},
   "source": [
    "#### Tabulate Results"
   ]
  },
  {
   "cell_type": "code",
   "execution_count": 61,
   "id": "b1682f8e",
   "metadata": {},
   "outputs": [
    {
     "data": {
      "text/plain": [
       "LogisticRegression(max_iter=10000)"
      ]
     },
     "execution_count": 61,
     "metadata": {},
     "output_type": "execute_result"
    }
   ],
   "source": [
    "lr1 = LogisticRegression(max_iter=10000)\n",
    "lr1.fit(x_train,y_train)"
   ]
  },
  {
   "cell_type": "code",
   "execution_count": 62,
   "id": "55ac46ed",
   "metadata": {},
   "outputs": [
    {
     "name": "stdout",
     "output_type": "stream",
     "text": [
      "Train Scr 0.8150110112493304\n",
      "Test Scr 0.814331342869046\n"
     ]
    }
   ],
   "source": [
    "print('Train Scr',lr1.score(x_train,y_train))\n",
    "print('Test Scr',lr1.score(x_test,y_test))"
   ]
  },
  {
   "cell_type": "code",
   "execution_count": 64,
   "id": "05f6417d",
   "metadata": {},
   "outputs": [
    {
     "name": "stdout",
     "output_type": "stream",
     "text": [
      "[0 0 0 ... 1 0 0]\n"
     ]
    }
   ],
   "source": [
    "ypred_lr1 = lr1.predict(x_test)\n",
    "print(ypred_lr1)"
   ]
  },
  {
   "cell_type": "code",
   "execution_count": 60,
   "id": "f8369a2f",
   "metadata": {},
   "outputs": [],
   "source": [
    "from sklearn.metrics import accuracy_score,precision_score,recall_score"
   ]
  },
  {
   "cell_type": "code",
   "execution_count": 67,
   "id": "b1909311",
   "metadata": {},
   "outputs": [
    {
     "data": {
      "text/html": [
       "<div>\n",
       "<style scoped>\n",
       "    .dataframe tbody tr th:only-of-type {\n",
       "        vertical-align: middle;\n",
       "    }\n",
       "\n",
       "    .dataframe tbody tr th {\n",
       "        vertical-align: top;\n",
       "    }\n",
       "\n",
       "    .dataframe thead th {\n",
       "        text-align: right;\n",
       "    }\n",
       "</style>\n",
       "<table border=\"1\" class=\"dataframe\">\n",
       "  <thead>\n",
       "    <tr style=\"text-align: right;\">\n",
       "      <th></th>\n",
       "      <th>Model</th>\n",
       "      <th>Acc</th>\n",
       "      <th>Precision</th>\n",
       "      <th>Recall</th>\n",
       "    </tr>\n",
       "  </thead>\n",
       "  <tbody>\n",
       "    <tr>\n",
       "      <th>0</th>\n",
       "      <td>LogReg_m1</td>\n",
       "      <td>0.814331</td>\n",
       "      <td>0.619283</td>\n",
       "      <td>0.327451</td>\n",
       "    </tr>\n",
       "  </tbody>\n",
       "</table>\n",
       "</div>"
      ],
      "text/plain": [
       "       Model       Acc  Precision    Recall\n",
       "0  LogReg_m1  0.814331   0.619283  0.327451"
      ]
     },
     "execution_count": 67,
     "metadata": {},
     "output_type": "execute_result"
    }
   ],
   "source": [
    "acc_lr1 = accuracy_score(y_test,ypred_lr1)\n",
    "pre_lr1 = precision_score(y_test,ypred_lr1)\n",
    "rec_lr1 = recall_score(y_test,ypred_lr1)\n",
    "\n",
    "lr1_res = pd.DataFrame({'Model':'LogReg_m1','Acc':acc_lr1,\n",
    "                   'Precision':pre_lr1,'Recall':rec_lr1},index=[0])\n",
    "lr1_res"
   ]
  },
  {
   "cell_type": "markdown",
   "id": "7e74a46c",
   "metadata": {},
   "source": [
    "#### ROC_AUC"
   ]
  },
  {
   "cell_type": "code",
   "execution_count": 68,
   "id": "87d43079",
   "metadata": {},
   "outputs": [],
   "source": [
    "from sklearn.metrics import roc_curve,roc_auc_score"
   ]
  },
  {
   "cell_type": "code",
   "execution_count": 75,
   "id": "602e8c81",
   "metadata": {},
   "outputs": [
    {
     "name": "stdout",
     "output_type": "stream",
     "text": [
      "[[0.87352859 0.12647141]\n",
      " [0.84949414 0.15050586]\n",
      " [0.90437232 0.09562768]\n",
      " [0.32683796 0.67316204]\n",
      " [0.88826058 0.11173942]\n",
      " [0.97314827 0.02685173]\n",
      " [0.87375088 0.12624912]\n",
      " [0.23166029 0.76833971]\n",
      " [0.3335108  0.6664892 ]\n",
      " [0.95275335 0.04724665]]\n"
     ]
    }
   ],
   "source": [
    "ypred_lr1_prob = lr1.predict_proba(x_test)\n",
    "print(ypred_lr1_prob[:10])"
   ]
  },
  {
   "cell_type": "code",
   "execution_count": 76,
   "id": "78883824",
   "metadata": {},
   "outputs": [
    {
     "name": "stdout",
     "output_type": "stream",
     "text": [
      "[0 0 0 1 0 0 0 1 1 0]\n"
     ]
    }
   ],
   "source": [
    "print(ypred_lr1[:10])"
   ]
  },
  {
   "cell_type": "code",
   "execution_count": 74,
   "id": "d8c2bf26",
   "metadata": {},
   "outputs": [
    {
     "data": {
      "image/png": "[encoded data removed]",
      "text/plain": [
       "<Figure size 640x480 with 1 Axes>"
      ]
     },
     "metadata": {},
     "output_type": "display_data"
    }
   ],
   "source": [
    "fpr,tpr,thresh = roc_curve(y_test,ypred_lr1_prob[:,1])\n",
    "auc_score = roc_auc_score(y_test,ypred_lr1_prob[:,1])\n",
    "plt.plot(fpr,tpr,label='AUC: '+str(auc_score))\n",
    "plt.plot([0,1],[0,1],color='green',linestyle='dotted')\n",
    "plt.title('ROC-AUC Curve')\n",
    "plt.xlabel('FPR')\n",
    "plt.ylabel('TPR')\n",
    "plt.legend()\n",
    "plt.show()"
   ]
  },
  {
   "cell_type": "markdown",
   "id": "3a516c80",
   "metadata": {},
   "source": [
    "#### Best Threshold"
   ]
  },
  {
   "cell_type": "code",
   "execution_count": 78,
   "id": "f3aa3c12",
   "metadata": {},
   "outputs": [
    {
     "name": "stdout",
     "output_type": "stream",
     "text": [
      "0.19203939776564205\n"
     ]
    }
   ],
   "source": [
    "best_thresh1 = thresh[np.argmax(tpr*(1-fpr))]\n",
    "print(best_thresh1)"
   ]
  },
  {
   "cell_type": "code",
   "execution_count": 79,
   "id": "bca1bc03",
   "metadata": {},
   "outputs": [
    {
     "name": "stdout",
     "output_type": "stream",
     "text": [
      "0.26994687911716303\n"
     ]
    }
   ],
   "source": [
    "best_thresh2 = thresh[np.argmax(abs(tpr-fpr))]\n",
    "print(best_thresh2)"
   ]
  },
  {
   "cell_type": "code",
   "execution_count": 81,
   "id": "bbfe6cb5",
   "metadata": {},
   "outputs": [
    {
     "name": "stdout",
     "output_type": "stream",
     "text": [
      "[0 0 0 ... 1 1 0]\n"
     ]
    }
   ],
   "source": [
    "ypred_lr2 = np.where(ypred_lr1_prob[:,1]>best_thresh2,1,0)\n",
    "print(ypred_lr2)"
   ]
  },
  {
   "cell_type": "code",
   "execution_count": 82,
   "id": "798c4211",
   "metadata": {},
   "outputs": [
    {
     "data": {
      "text/html": [
       "<div>\n",
       "<style scoped>\n",
       "    .dataframe tbody tr th:only-of-type {\n",
       "        vertical-align: middle;\n",
       "    }\n",
       "\n",
       "    .dataframe tbody tr th {\n",
       "        vertical-align: top;\n",
       "    }\n",
       "\n",
       "    .dataframe thead th {\n",
       "        text-align: right;\n",
       "    }\n",
       "</style>\n",
       "<table border=\"1\" class=\"dataframe\">\n",
       "  <thead>\n",
       "    <tr style=\"text-align: right;\">\n",
       "      <th></th>\n",
       "      <th>Model</th>\n",
       "      <th>Acc</th>\n",
       "      <th>Precision</th>\n",
       "      <th>Recall</th>\n",
       "    </tr>\n",
       "  </thead>\n",
       "  <tbody>\n",
       "    <tr>\n",
       "      <th>1</th>\n",
       "      <td>LogReg_m2(Thresh=0.269)</td>\n",
       "      <td>0.763505</td>\n",
       "      <td>0.458711</td>\n",
       "      <td>0.628105</td>\n",
       "    </tr>\n",
       "  </tbody>\n",
       "</table>\n",
       "</div>"
      ],
      "text/plain": [
       "                     Model       Acc  Precision    Recall\n",
       "1  LogReg_m2(Thresh=0.269)  0.763505   0.458711  0.628105"
      ]
     },
     "execution_count": 82,
     "metadata": {},
     "output_type": "execute_result"
    }
   ],
   "source": [
    "acc_lr2 = accuracy_score(y_test,ypred_lr2)\n",
    "pre_lr2 = precision_score(y_test,ypred_lr2)\n",
    "rec_lr2 = recall_score(y_test,ypred_lr2)\n",
    "\n",
    "lr2_res = pd.DataFrame({'Model':'LogReg_m2(Thresh=0.269)','Acc':acc_lr2,\n",
    "                   'Precision':pre_lr2,'Recall':rec_lr2},index=[1])\n",
    "lr2_res"
   ]
  },
  {
   "cell_type": "code",
   "execution_count": 83,
   "id": "69880ccb",
   "metadata": {},
   "outputs": [
    {
     "data": {
      "text/html": [
       "<div>\n",
       "<style scoped>\n",
       "    .dataframe tbody tr th:only-of-type {\n",
       "        vertical-align: middle;\n",
       "    }\n",
       "\n",
       "    .dataframe tbody tr th {\n",
       "        vertical-align: top;\n",
       "    }\n",
       "\n",
       "    .dataframe thead th {\n",
       "        text-align: right;\n",
       "    }\n",
       "</style>\n",
       "<table border=\"1\" class=\"dataframe\">\n",
       "  <thead>\n",
       "    <tr style=\"text-align: right;\">\n",
       "      <th></th>\n",
       "      <th>Model</th>\n",
       "      <th>Acc</th>\n",
       "      <th>Precision</th>\n",
       "      <th>Recall</th>\n",
       "    </tr>\n",
       "  </thead>\n",
       "  <tbody>\n",
       "    <tr>\n",
       "      <th>0</th>\n",
       "      <td>LogReg_m1</td>\n",
       "      <td>0.814331</td>\n",
       "      <td>0.619283</td>\n",
       "      <td>0.327451</td>\n",
       "    </tr>\n",
       "    <tr>\n",
       "      <th>1</th>\n",
       "      <td>LogReg_m2(Thresh=0.269)</td>\n",
       "      <td>0.763505</td>\n",
       "      <td>0.458711</td>\n",
       "      <td>0.628105</td>\n",
       "    </tr>\n",
       "  </tbody>\n",
       "</table>\n",
       "</div>"
      ],
      "text/plain": [
       "                     Model       Acc  Precision    Recall\n",
       "0                LogReg_m1  0.814331   0.619283  0.327451\n",
       "1  LogReg_m2(Thresh=0.269)  0.763505   0.458711  0.628105"
      ]
     },
     "execution_count": 83,
     "metadata": {},
     "output_type": "execute_result"
    }
   ],
   "source": [
    "res = pd.concat([lr1_res,lr2_res])\n",
    "res"
   ]
  },
  {
   "cell_type": "code",
   "execution_count": 89,
   "id": "7c3746a8",
   "metadata": {},
   "outputs": [],
   "source": [
    "def gen_model_res(ypred,thresh=None):\n",
    "    acc = accuracy_score(y_test,ypred)\n",
    "    pre = precision_score(y_test,ypred)\n",
    "    rec = recall_score(y_test,ypred)\n",
    "    lr_res = pd.DataFrame({'Model':f'LogReg(Thresh={thresh})','Acc':acc,\n",
    "                   'Precision':pre,'Recall':rec},index=[100])\n",
    "    return lr_res"
   ]
  },
  {
   "cell_type": "code",
   "execution_count": 90,
   "id": "1c79bb96",
   "metadata": {},
   "outputs": [
    {
     "name": "stdout",
     "output_type": "stream",
     "text": [
      "[0 0 0 ... 1 1 0]\n"
     ]
    }
   ],
   "source": [
    "ypred_lr3 = np.where(ypred_lr1_prob[:,1]>best_thresh1,1,0)\n",
    "print(ypred_lr3)"
   ]
  },
  {
   "cell_type": "code",
   "execution_count": 91,
   "id": "de328e6d",
   "metadata": {},
   "outputs": [
    {
     "data": {
      "text/html": [
       "<div>\n",
       "<style scoped>\n",
       "    .dataframe tbody tr th:only-of-type {\n",
       "        vertical-align: middle;\n",
       "    }\n",
       "\n",
       "    .dataframe tbody tr th {\n",
       "        vertical-align: top;\n",
       "    }\n",
       "\n",
       "    .dataframe thead th {\n",
       "        text-align: right;\n",
       "    }\n",
       "</style>\n",
       "<table border=\"1\" class=\"dataframe\">\n",
       "  <thead>\n",
       "    <tr style=\"text-align: right;\">\n",
       "      <th></th>\n",
       "      <th>Model</th>\n",
       "      <th>Acc</th>\n",
       "      <th>Precision</th>\n",
       "      <th>Recall</th>\n",
       "    </tr>\n",
       "  </thead>\n",
       "  <tbody>\n",
       "    <tr>\n",
       "      <th>100</th>\n",
       "      <td>LogReg(Thresh=0.19203939776564205)</td>\n",
       "      <td>0.699486</td>\n",
       "      <td>0.390311</td>\n",
       "      <td>0.737255</td>\n",
       "    </tr>\n",
       "  </tbody>\n",
       "</table>\n",
       "</div>"
      ],
      "text/plain": [
       "                                  Model       Acc  Precision    Recall\n",
       "100  LogReg(Thresh=0.19203939776564205)  0.699486   0.390311  0.737255"
      ]
     },
     "execution_count": 91,
     "metadata": {},
     "output_type": "execute_result"
    }
   ],
   "source": [
    "lr3_res = gen_model_res(ypred_lr3,best_thresh1)\n",
    "lr3_res"
   ]
  },
  {
   "cell_type": "code",
   "execution_count": 92,
   "id": "bb69e38a",
   "metadata": {},
   "outputs": [
    {
     "data": {
      "text/html": [
       "<div>\n",
       "<style scoped>\n",
       "    .dataframe tbody tr th:only-of-type {\n",
       "        vertical-align: middle;\n",
       "    }\n",
       "\n",
       "    .dataframe tbody tr th {\n",
       "        vertical-align: top;\n",
       "    }\n",
       "\n",
       "    .dataframe thead th {\n",
       "        text-align: right;\n",
       "    }\n",
       "</style>\n",
       "<table border=\"1\" class=\"dataframe\">\n",
       "  <thead>\n",
       "    <tr style=\"text-align: right;\">\n",
       "      <th></th>\n",
       "      <th>Model</th>\n",
       "      <th>Acc</th>\n",
       "      <th>Precision</th>\n",
       "      <th>Recall</th>\n",
       "    </tr>\n",
       "  </thead>\n",
       "  <tbody>\n",
       "    <tr>\n",
       "      <th>0</th>\n",
       "      <td>LogReg_m1</td>\n",
       "      <td>0.814331</td>\n",
       "      <td>0.619283</td>\n",
       "      <td>0.327451</td>\n",
       "    </tr>\n",
       "    <tr>\n",
       "      <th>1</th>\n",
       "      <td>LogReg_m2(Thresh=0.269)</td>\n",
       "      <td>0.763505</td>\n",
       "      <td>0.458711</td>\n",
       "      <td>0.628105</td>\n",
       "    </tr>\n",
       "    <tr>\n",
       "      <th>100</th>\n",
       "      <td>LogReg(Thresh=0.19203939776564205)</td>\n",
       "      <td>0.699486</td>\n",
       "      <td>0.390311</td>\n",
       "      <td>0.737255</td>\n",
       "    </tr>\n",
       "    <tr>\n",
       "      <th>100</th>\n",
       "      <td>LogReg(Thresh=0.19203939776564205)</td>\n",
       "      <td>0.699486</td>\n",
       "      <td>0.390311</td>\n",
       "      <td>0.737255</td>\n",
       "    </tr>\n",
       "  </tbody>\n",
       "</table>\n",
       "</div>"
      ],
      "text/plain": [
       "                                  Model       Acc  Precision    Recall\n",
       "0                             LogReg_m1  0.814331   0.619283  0.327451\n",
       "1               LogReg_m2(Thresh=0.269)  0.763505   0.458711  0.628105\n",
       "100  LogReg(Thresh=0.19203939776564205)  0.699486   0.390311  0.737255\n",
       "100  LogReg(Thresh=0.19203939776564205)  0.699486   0.390311  0.737255"
      ]
     },
     "execution_count": 92,
     "metadata": {},
     "output_type": "execute_result"
    }
   ],
   "source": [
    "res = pd.concat([res,lr3_res])\n",
    "res"
   ]
  },
  {
   "cell_type": "code",
   "execution_count": 93,
   "id": "7b239e13",
   "metadata": {},
   "outputs": [
    {
     "data": {
      "text/html": [
       "<div>\n",
       "<style scoped>\n",
       "    .dataframe tbody tr th:only-of-type {\n",
       "        vertical-align: middle;\n",
       "    }\n",
       "\n",
       "    .dataframe tbody tr th {\n",
       "        vertical-align: top;\n",
       "    }\n",
       "\n",
       "    .dataframe thead th {\n",
       "        text-align: right;\n",
       "    }\n",
       "</style>\n",
       "<table border=\"1\" class=\"dataframe\">\n",
       "  <thead>\n",
       "    <tr style=\"text-align: right;\">\n",
       "      <th></th>\n",
       "      <th>Model</th>\n",
       "      <th>Acc</th>\n",
       "      <th>Precision</th>\n",
       "      <th>Recall</th>\n",
       "    </tr>\n",
       "  </thead>\n",
       "  <tbody>\n",
       "    <tr>\n",
       "      <th>0</th>\n",
       "      <td>LogReg_m1</td>\n",
       "      <td>0.814331</td>\n",
       "      <td>0.619283</td>\n",
       "      <td>0.327451</td>\n",
       "    </tr>\n",
       "    <tr>\n",
       "      <th>1</th>\n",
       "      <td>LogReg_m2(Thresh=0.269)</td>\n",
       "      <td>0.763505</td>\n",
       "      <td>0.458711</td>\n",
       "      <td>0.628105</td>\n",
       "    </tr>\n",
       "    <tr>\n",
       "      <th>100</th>\n",
       "      <td>LogReg(Thresh=0.19203939776564205)</td>\n",
       "      <td>0.699486</td>\n",
       "      <td>0.390311</td>\n",
       "      <td>0.737255</td>\n",
       "    </tr>\n",
       "  </tbody>\n",
       "</table>\n",
       "</div>"
      ],
      "text/plain": [
       "                                  Model       Acc  Precision    Recall\n",
       "0                             LogReg_m1  0.814331   0.619283  0.327451\n",
       "1               LogReg_m2(Thresh=0.269)  0.763505   0.458711  0.628105\n",
       "100  LogReg(Thresh=0.19203939776564205)  0.699486   0.390311  0.737255"
      ]
     },
     "execution_count": 93,
     "metadata": {},
     "output_type": "execute_result"
    }
   ],
   "source": [
    "res = res[:-1]\n",
    "res"
   ]
  },
  {
   "cell_type": "markdown",
   "id": "54264938",
   "metadata": {},
   "source": [
    "### Feature Selection using RFE (Recursive Feature Elimination)"
   ]
  },
  {
   "cell_type": "markdown",
   "id": "aba2fbda",
   "metadata": {},
   "source": [
    "#### RFE (Recursive Feature Elimination)\n",
    "\n",
    "1) The process involves developing a model with the remaining features after repeatedly removing the least significant parts until the desired number of features is obtained.<br>\n",
    "2) First, the estimator is trained on the initial set of features and the importance of each feature is obtained either through any specific attribute (such as coef_, feature_importances_) or callable. <br>\n",
    "3) Then, the least important features are pruned from current set of features. That procedure is recursively repeated on the pruned set until the desired number of features to select is eventually reached."
   ]
  },
  {
   "cell_type": "code",
   "execution_count": 94,
   "id": "ecc23cb2",
   "metadata": {},
   "outputs": [],
   "source": [
    "from sklearn.feature_selection import RFE"
   ]
  },
  {
   "cell_type": "code",
   "execution_count": 96,
   "id": "40b5a581",
   "metadata": {},
   "outputs": [
    {
     "name": "stdout",
     "output_type": "stream",
     "text": [
      "36\n",
      "Index(['h1n1_worry', 'h1n1_awareness', 'antiviral_medication',\n",
      "       'contact_avoidance', 'bought_face_mask', 'wash_hands_frequently',\n",
      "       'avoid_large_gatherings', 'reduced_outside_home_cont',\n",
      "       'avoid_touch_face', 'chronic_medic_condition',\n",
      "       'cont_child_undr_6_mnths', 'is_health_worker', 'is_h1n1_vacc_effective',\n",
      "       'is_h1n1_risky', 'sick_from_h1n1_vacc', 'is_seas_vacc_effective',\n",
      "       'is_seas_risky', 'sick_from_seas_vacc', 'no_of_adults',\n",
      "       'no_of_children', 'age_bracket_35 - 44 Years',\n",
      "       'age_bracket_45 - 54 Years', 'age_bracket_55 - 64 Years',\n",
      "       'age_bracket_65+ Years', 'qualification_< 12 Years',\n",
      "       'qualification_College Graduate', 'qualification_Some College',\n",
      "       'race_Hispanic', 'race_Other or Multiple', 'race_White', 'sex_Male',\n",
      "       'marital_status_Not Married', 'employment_Not in Labor Force',\n",
      "       'employment_Unemployed', 'census_msa_MSA, Principle City',\n",
      "       'census_msa_Non-MSA'],\n",
      "      dtype='object')\n"
     ]
    }
   ],
   "source": [
    "print(len(x_train.columns))\n",
    "print(x_train.columns)"
   ]
  },
  {
   "cell_type": "code",
   "execution_count": 103,
   "id": "b1ec8f94",
   "metadata": {},
   "outputs": [
    {
     "name": "stdout",
     "output_type": "stream",
     "text": [
      "[ True  True  True False  True False  True False False  True  True  True\n",
      "  True  True False False  True False False False False False  True  True\n",
      "  True  True  True False  True  True  True  True False False False False]\n",
      "[ 1  1  1 11  1  7  1  4  6  1  1  1  1  1 13  2  1  8 12 14 15 16  1  1\n",
      "  1  1  1  3  1  1  1  1 10 17  5  9]\n",
      "Extracted Feature Index(['h1n1_worry', 'h1n1_awareness', 'antiviral_medication',\n",
      "       'bought_face_mask', 'avoid_large_gatherings', 'chronic_medic_condition',\n",
      "       'cont_child_undr_6_mnths', 'is_health_worker', 'is_h1n1_vacc_effective',\n",
      "       'is_h1n1_risky', 'is_seas_risky', 'age_bracket_55 - 64 Years',\n",
      "       'age_bracket_65+ Years', 'qualification_< 12 Years',\n",
      "       'qualification_College Graduate', 'qualification_Some College',\n",
      "       'race_Other or Multiple', 'race_White', 'sex_Male',\n",
      "       'marital_status_Not Married'],\n",
      "      dtype='object')\n"
     ]
    }
   ],
   "source": [
    "lr4 = LogisticRegression(max_iter=10000)\n",
    "\n",
    "rfe = RFE(lr4, n_features_to_select=20)\n",
    "rfe = rfe.fit(x_train, y_train)\n",
    "\n",
    "print(rfe.support_)\n",
    "print(rfe.ranking_)\n",
    "print('Extracted Feature',x_train.columns[rfe.support_])"
   ]
  },
  {
   "cell_type": "code",
   "execution_count": 104,
   "id": "2c7c1fac",
   "metadata": {},
   "outputs": [
    {
     "data": {
      "text/plain": [
       "LogisticRegression(max_iter=10000)"
      ]
     },
     "execution_count": 104,
     "metadata": {},
     "output_type": "execute_result"
    }
   ],
   "source": [
    "lr4 = LogisticRegression(max_iter=10000)\n",
    "lr4.fit(x_train[x_train.columns[rfe.support_]], y_train)"
   ]
  },
  {
   "cell_type": "code",
   "execution_count": 105,
   "id": "5b50afb4",
   "metadata": {},
   "outputs": [],
   "source": [
    "ypred_lr4 = lr4.predict(x_test[x_train.columns[rfe.support_]])"
   ]
  },
  {
   "cell_type": "code",
   "execution_count": 106,
   "id": "692cfd8b",
   "metadata": {},
   "outputs": [
    {
     "data": {
      "text/html": [
       "<div>\n",
       "<style scoped>\n",
       "    .dataframe tbody tr th:only-of-type {\n",
       "        vertical-align: middle;\n",
       "    }\n",
       "\n",
       "    .dataframe tbody tr th {\n",
       "        vertical-align: top;\n",
       "    }\n",
       "\n",
       "    .dataframe thead th {\n",
       "        text-align: right;\n",
       "    }\n",
       "</style>\n",
       "<table border=\"1\" class=\"dataframe\">\n",
       "  <thead>\n",
       "    <tr style=\"text-align: right;\">\n",
       "      <th></th>\n",
       "      <th>Model</th>\n",
       "      <th>Acc</th>\n",
       "      <th>Precision</th>\n",
       "      <th>Recall</th>\n",
       "    </tr>\n",
       "  </thead>\n",
       "  <tbody>\n",
       "    <tr>\n",
       "      <th>100</th>\n",
       "      <td>LogReg(Thresh=0.5)</td>\n",
       "      <td>0.814609</td>\n",
       "      <td>0.622951</td>\n",
       "      <td>0.322876</td>\n",
       "    </tr>\n",
       "  </tbody>\n",
       "</table>\n",
       "</div>"
      ],
      "text/plain": [
       "                  Model       Acc  Precision    Recall\n",
       "100  LogReg(Thresh=0.5)  0.814609   0.622951  0.322876"
      ]
     },
     "execution_count": 106,
     "metadata": {},
     "output_type": "execute_result"
    }
   ],
   "source": [
    "lr4_res = gen_model_res(ypred_lr4,thresh=0.5)\n",
    "lr4_res"
   ]
  },
  {
   "cell_type": "code",
   "execution_count": 107,
   "id": "ab938097",
   "metadata": {},
   "outputs": [
    {
     "data": {
      "text/html": [
       "<div>\n",
       "<style scoped>\n",
       "    .dataframe tbody tr th:only-of-type {\n",
       "        vertical-align: middle;\n",
       "    }\n",
       "\n",
       "    .dataframe tbody tr th {\n",
       "        vertical-align: top;\n",
       "    }\n",
       "\n",
       "    .dataframe thead th {\n",
       "        text-align: right;\n",
       "    }\n",
       "</style>\n",
       "<table border=\"1\" class=\"dataframe\">\n",
       "  <thead>\n",
       "    <tr style=\"text-align: right;\">\n",
       "      <th></th>\n",
       "      <th>Model</th>\n",
       "      <th>Acc</th>\n",
       "      <th>Precision</th>\n",
       "      <th>Recall</th>\n",
       "    </tr>\n",
       "  </thead>\n",
       "  <tbody>\n",
       "    <tr>\n",
       "      <th>0</th>\n",
       "      <td>LogReg_m1</td>\n",
       "      <td>0.814331</td>\n",
       "      <td>0.619283</td>\n",
       "      <td>0.327451</td>\n",
       "    </tr>\n",
       "    <tr>\n",
       "      <th>1</th>\n",
       "      <td>LogReg_m2(Thresh=0.269)</td>\n",
       "      <td>0.763505</td>\n",
       "      <td>0.458711</td>\n",
       "      <td>0.628105</td>\n",
       "    </tr>\n",
       "    <tr>\n",
       "      <th>100</th>\n",
       "      <td>LogReg(Thresh=0.19203939776564205)</td>\n",
       "      <td>0.699486</td>\n",
       "      <td>0.390311</td>\n",
       "      <td>0.737255</td>\n",
       "    </tr>\n",
       "    <tr>\n",
       "      <th>100</th>\n",
       "      <td>LogReg(Thresh=0.5)</td>\n",
       "      <td>0.814609</td>\n",
       "      <td>0.622951</td>\n",
       "      <td>0.322876</td>\n",
       "    </tr>\n",
       "  </tbody>\n",
       "</table>\n",
       "</div>"
      ],
      "text/plain": [
       "                                  Model       Acc  Precision    Recall\n",
       "0                             LogReg_m1  0.814331   0.619283  0.327451\n",
       "1               LogReg_m2(Thresh=0.269)  0.763505   0.458711  0.628105\n",
       "100  LogReg(Thresh=0.19203939776564205)  0.699486   0.390311  0.737255\n",
       "100                  LogReg(Thresh=0.5)  0.814609   0.622951  0.322876"
      ]
     },
     "execution_count": 107,
     "metadata": {},
     "output_type": "execute_result"
    }
   ],
   "source": [
    "res = pd.concat([res,lr4_res])\n",
    "res"
   ]
  },
  {
   "cell_type": "code",
   "execution_count": 111,
   "id": "6a0b48bb",
   "metadata": {},
   "outputs": [
    {
     "data": {
      "text/html": [
       "<div>\n",
       "<style scoped>\n",
       "    .dataframe tbody tr th:only-of-type {\n",
       "        vertical-align: middle;\n",
       "    }\n",
       "\n",
       "    .dataframe tbody tr th {\n",
       "        vertical-align: top;\n",
       "    }\n",
       "\n",
       "    .dataframe thead th {\n",
       "        text-align: right;\n",
       "    }\n",
       "</style>\n",
       "<table border=\"1\" class=\"dataframe\">\n",
       "  <thead>\n",
       "    <tr style=\"text-align: right;\">\n",
       "      <th></th>\n",
       "      <th>Model</th>\n",
       "      <th>Acc</th>\n",
       "      <th>Precision</th>\n",
       "      <th>Recall</th>\n",
       "    </tr>\n",
       "  </thead>\n",
       "  <tbody>\n",
       "    <tr>\n",
       "      <th>0</th>\n",
       "      <td>LogReg_m1</td>\n",
       "      <td>0.814331</td>\n",
       "      <td>0.619283</td>\n",
       "      <td>0.327451</td>\n",
       "    </tr>\n",
       "    <tr>\n",
       "      <th>1</th>\n",
       "      <td>LogReg_m2(Thresh=0.269)</td>\n",
       "      <td>0.763505</td>\n",
       "      <td>0.458711</td>\n",
       "      <td>0.628105</td>\n",
       "    </tr>\n",
       "    <tr>\n",
       "      <th>2</th>\n",
       "      <td>LogReg(Thresh=0.19203939776564205)</td>\n",
       "      <td>0.699486</td>\n",
       "      <td>0.390311</td>\n",
       "      <td>0.737255</td>\n",
       "    </tr>\n",
       "    <tr>\n",
       "      <th>3</th>\n",
       "      <td>LogReg(Thresh=0.5)</td>\n",
       "      <td>0.814609</td>\n",
       "      <td>0.622951</td>\n",
       "      <td>0.322876</td>\n",
       "    </tr>\n",
       "  </tbody>\n",
       "</table>\n",
       "</div>"
      ],
      "text/plain": [
       "                                Model       Acc  Precision    Recall\n",
       "0                           LogReg_m1  0.814331   0.619283  0.327451\n",
       "1             LogReg_m2(Thresh=0.269)  0.763505   0.458711  0.628105\n",
       "2  LogReg(Thresh=0.19203939776564205)  0.699486   0.390311  0.737255\n",
       "3                  LogReg(Thresh=0.5)  0.814609   0.622951  0.322876"
      ]
     },
     "execution_count": 111,
     "metadata": {},
     "output_type": "execute_result"
    }
   ],
   "source": [
    "res.index = list(range(4))\n",
    "res"
   ]
  },
  {
   "cell_type": "code",
   "execution_count": 113,
   "id": "dfd90454",
   "metadata": {},
   "outputs": [
    {
     "data": {
      "text/html": [
       "<div>\n",
       "<style scoped>\n",
       "    .dataframe tbody tr th:only-of-type {\n",
       "        vertical-align: middle;\n",
       "    }\n",
       "\n",
       "    .dataframe tbody tr th {\n",
       "        vertical-align: top;\n",
       "    }\n",
       "\n",
       "    .dataframe thead th {\n",
       "        text-align: right;\n",
       "    }\n",
       "</style>\n",
       "<table border=\"1\" class=\"dataframe\">\n",
       "  <thead>\n",
       "    <tr style=\"text-align: right;\">\n",
       "      <th></th>\n",
       "      <th>Acc</th>\n",
       "      <th>Precision</th>\n",
       "      <th>Recall</th>\n",
       "    </tr>\n",
       "    <tr>\n",
       "      <th>Model</th>\n",
       "      <th></th>\n",
       "      <th></th>\n",
       "      <th></th>\n",
       "    </tr>\n",
       "  </thead>\n",
       "  <tbody>\n",
       "    <tr>\n",
       "      <th>LogReg_m1</th>\n",
       "      <td>0.814331</td>\n",
       "      <td>0.619283</td>\n",
       "      <td>0.327451</td>\n",
       "    </tr>\n",
       "    <tr>\n",
       "      <th>LogReg_m2(Thresh=0.269)</th>\n",
       "      <td>0.763505</td>\n",
       "      <td>0.458711</td>\n",
       "      <td>0.628105</td>\n",
       "    </tr>\n",
       "    <tr>\n",
       "      <th>LogReg(Thresh=0.19203939776564205)</th>\n",
       "      <td>0.699486</td>\n",
       "      <td>0.390311</td>\n",
       "      <td>0.737255</td>\n",
       "    </tr>\n",
       "    <tr>\n",
       "      <th>LogReg(Thresh=0.5)</th>\n",
       "      <td>0.814609</td>\n",
       "      <td>0.622951</td>\n",
       "      <td>0.322876</td>\n",
       "    </tr>\n",
       "  </tbody>\n",
       "</table>\n",
       "</div>"
      ],
      "text/plain": [
       "                                         Acc  Precision    Recall\n",
       "Model                                                            \n",
       "LogReg_m1                           0.814331   0.619283  0.327451\n",
       "LogReg_m2(Thresh=0.269)             0.763505   0.458711  0.628105\n",
       "LogReg(Thresh=0.19203939776564205)  0.699486   0.390311  0.737255\n",
       "LogReg(Thresh=0.5)                  0.814609   0.622951  0.322876"
      ]
     },
     "execution_count": 113,
     "metadata": {},
     "output_type": "execute_result"
    }
   ],
   "source": [
    "res.set_index('Model',inplace=True)\n",
    "res"
   ]
  },
  {
   "cell_type": "code",
   "execution_count": 118,
   "id": "bb300e9a",
   "metadata": {},
   "outputs": [],
   "source": [
    "def display_df():\n",
    "    return df.head()"
   ]
  },
  {
   "cell_type": "code",
   "execution_count": 120,
   "id": "70e33fc3",
   "metadata": {},
   "outputs": [],
   "source": [
    "def fun(n):\n",
    "    print(n+2)\n"
   ]
  },
  {
   "cell_type": "code",
   "execution_count": 121,
   "id": "d7b7d4e0",
   "metadata": {},
   "outputs": [
    {
     "name": "stdout",
     "output_type": "stream",
     "text": [
      "7\n"
     ]
    }
   ],
   "source": [
    "fun(5)"
   ]
  },
  {
   "cell_type": "code",
   "execution_count": 119,
   "id": "60320e39",
   "metadata": {},
   "outputs": [
    {
     "data": {
      "text/html": [
       "<div>\n",
       "<style scoped>\n",
       "    .dataframe tbody tr th:only-of-type {\n",
       "        vertical-align: middle;\n",
       "    }\n",
       "\n",
       "    .dataframe tbody tr th {\n",
       "        vertical-align: top;\n",
       "    }\n",
       "\n",
       "    .dataframe thead th {\n",
       "        text-align: right;\n",
       "    }\n",
       "</style>\n",
       "<table border=\"1\" class=\"dataframe\">\n",
       "  <thead>\n",
       "    <tr style=\"text-align: right;\">\n",
       "      <th></th>\n",
       "      <th>h1n1_worry</th>\n",
       "      <th>h1n1_awareness</th>\n",
       "      <th>antiviral_medication</th>\n",
       "      <th>contact_avoidance</th>\n",
       "      <th>bought_face_mask</th>\n",
       "      <th>wash_hands_frequently</th>\n",
       "      <th>avoid_large_gatherings</th>\n",
       "      <th>reduced_outside_home_cont</th>\n",
       "      <th>avoid_touch_face</th>\n",
       "      <th>chronic_medic_condition</th>\n",
       "      <th>...</th>\n",
       "      <th>age_bracket</th>\n",
       "      <th>qualification</th>\n",
       "      <th>race</th>\n",
       "      <th>sex</th>\n",
       "      <th>marital_status</th>\n",
       "      <th>employment</th>\n",
       "      <th>census_msa</th>\n",
       "      <th>no_of_adults</th>\n",
       "      <th>no_of_children</th>\n",
       "      <th>h1n1_vaccine</th>\n",
       "    </tr>\n",
       "  </thead>\n",
       "  <tbody>\n",
       "    <tr>\n",
       "      <th>0</th>\n",
       "      <td>1.0</td>\n",
       "      <td>0.0</td>\n",
       "      <td>0.0</td>\n",
       "      <td>0.0</td>\n",
       "      <td>0.0</td>\n",
       "      <td>0.0</td>\n",
       "      <td>0.0</td>\n",
       "      <td>1.0</td>\n",
       "      <td>1.0</td>\n",
       "      <td>0.0</td>\n",
       "      <td>...</td>\n",
       "      <td>55 - 64 Years</td>\n",
       "      <td>&lt; 12 Years</td>\n",
       "      <td>White</td>\n",
       "      <td>Female</td>\n",
       "      <td>Not Married</td>\n",
       "      <td>Not in Labor Force</td>\n",
       "      <td>Non-MSA</td>\n",
       "      <td>0.0</td>\n",
       "      <td>0.0</td>\n",
       "      <td>0</td>\n",
       "    </tr>\n",
       "    <tr>\n",
       "      <th>1</th>\n",
       "      <td>3.0</td>\n",
       "      <td>2.0</td>\n",
       "      <td>0.0</td>\n",
       "      <td>1.0</td>\n",
       "      <td>0.0</td>\n",
       "      <td>1.0</td>\n",
       "      <td>0.0</td>\n",
       "      <td>1.0</td>\n",
       "      <td>1.0</td>\n",
       "      <td>0.0</td>\n",
       "      <td>...</td>\n",
       "      <td>35 - 44 Years</td>\n",
       "      <td>12 Years</td>\n",
       "      <td>White</td>\n",
       "      <td>Male</td>\n",
       "      <td>Not Married</td>\n",
       "      <td>Employed</td>\n",
       "      <td>MSA, Not Principle  City</td>\n",
       "      <td>0.0</td>\n",
       "      <td>0.0</td>\n",
       "      <td>0</td>\n",
       "    </tr>\n",
       "    <tr>\n",
       "      <th>2</th>\n",
       "      <td>1.0</td>\n",
       "      <td>1.0</td>\n",
       "      <td>0.0</td>\n",
       "      <td>1.0</td>\n",
       "      <td>0.0</td>\n",
       "      <td>0.0</td>\n",
       "      <td>0.0</td>\n",
       "      <td>0.0</td>\n",
       "      <td>0.0</td>\n",
       "      <td>1.0</td>\n",
       "      <td>...</td>\n",
       "      <td>18 - 34 Years</td>\n",
       "      <td>College Graduate</td>\n",
       "      <td>White</td>\n",
       "      <td>Male</td>\n",
       "      <td>Not Married</td>\n",
       "      <td>Employed</td>\n",
       "      <td>MSA, Not Principle  City</td>\n",
       "      <td>2.0</td>\n",
       "      <td>0.0</td>\n",
       "      <td>0</td>\n",
       "    </tr>\n",
       "    <tr>\n",
       "      <th>3</th>\n",
       "      <td>1.0</td>\n",
       "      <td>1.0</td>\n",
       "      <td>0.0</td>\n",
       "      <td>1.0</td>\n",
       "      <td>0.0</td>\n",
       "      <td>1.0</td>\n",
       "      <td>1.0</td>\n",
       "      <td>0.0</td>\n",
       "      <td>0.0</td>\n",
       "      <td>1.0</td>\n",
       "      <td>...</td>\n",
       "      <td>65+ Years</td>\n",
       "      <td>12 Years</td>\n",
       "      <td>White</td>\n",
       "      <td>Female</td>\n",
       "      <td>Not Married</td>\n",
       "      <td>Not in Labor Force</td>\n",
       "      <td>MSA, Principle City</td>\n",
       "      <td>0.0</td>\n",
       "      <td>0.0</td>\n",
       "      <td>0</td>\n",
       "    </tr>\n",
       "    <tr>\n",
       "      <th>4</th>\n",
       "      <td>2.0</td>\n",
       "      <td>1.0</td>\n",
       "      <td>0.0</td>\n",
       "      <td>1.0</td>\n",
       "      <td>0.0</td>\n",
       "      <td>1.0</td>\n",
       "      <td>1.0</td>\n",
       "      <td>0.0</td>\n",
       "      <td>1.0</td>\n",
       "      <td>0.0</td>\n",
       "      <td>...</td>\n",
       "      <td>45 - 54 Years</td>\n",
       "      <td>Some College</td>\n",
       "      <td>White</td>\n",
       "      <td>Female</td>\n",
       "      <td>Married</td>\n",
       "      <td>Employed</td>\n",
       "      <td>MSA, Not Principle  City</td>\n",
       "      <td>1.0</td>\n",
       "      <td>0.0</td>\n",
       "      <td>0</td>\n",
       "    </tr>\n",
       "  </tbody>\n",
       "</table>\n",
       "<p>5 rows × 28 columns</p>\n",
       "</div>"
      ],
      "text/plain": [
       "   h1n1_worry  h1n1_awareness  antiviral_medication  contact_avoidance  \\\n",
       "0         1.0             0.0                   0.0                0.0   \n",
       "1         3.0             2.0                   0.0                1.0   \n",
       "2         1.0             1.0                   0.0                1.0   \n",
       "3         1.0             1.0                   0.0                1.0   \n",
       "4         2.0             1.0                   0.0                1.0   \n",
       "\n",
       "   bought_face_mask  wash_hands_frequently  avoid_large_gatherings  \\\n",
       "0               0.0                    0.0                     0.0   \n",
       "1               0.0                    1.0                     0.0   \n",
       "2               0.0                    0.0                     0.0   \n",
       "3               0.0                    1.0                     1.0   \n",
       "4               0.0                    1.0                     1.0   \n",
       "\n",
       "   reduced_outside_home_cont  avoid_touch_face  chronic_medic_condition  ...  \\\n",
       "0                        1.0               1.0                      0.0  ...   \n",
       "1                        1.0               1.0                      0.0  ...   \n",
       "2                        0.0               0.0                      1.0  ...   \n",
       "3                        0.0               0.0                      1.0  ...   \n",
       "4                        0.0               1.0                      0.0  ...   \n",
       "\n",
       "     age_bracket     qualification   race     sex  marital_status  \\\n",
       "0  55 - 64 Years        < 12 Years  White  Female     Not Married   \n",
       "1  35 - 44 Years          12 Years  White    Male     Not Married   \n",
       "2  18 - 34 Years  College Graduate  White    Male     Not Married   \n",
       "3      65+ Years          12 Years  White  Female     Not Married   \n",
       "4  45 - 54 Years      Some College  White  Female         Married   \n",
       "\n",
       "           employment                census_msa  no_of_adults no_of_children  \\\n",
       "0  Not in Labor Force                   Non-MSA           0.0            0.0   \n",
       "1            Employed  MSA, Not Principle  City           0.0            0.0   \n",
       "2            Employed  MSA, Not Principle  City           2.0            0.0   \n",
       "3  Not in Labor Force       MSA, Principle City           0.0            0.0   \n",
       "4            Employed  MSA, Not Principle  City           1.0            0.0   \n",
       "\n",
       "  h1n1_vaccine  \n",
       "0            0  \n",
       "1            0  \n",
       "2            0  \n",
       "3            0  \n",
       "4            0  \n",
       "\n",
       "[5 rows x 28 columns]"
      ]
     },
     "execution_count": 119,
     "metadata": {},
     "output_type": "execute_result"
    }
   ],
   "source": [
    "a = display_df()\n",
    "a"
   ]
  },
  {
   "cell_type": "code",
   "execution_count": 122,
   "id": "a9a2206a",
   "metadata": {},
   "outputs": [
    {
     "data": {
      "text/html": [
       "<div>\n",
       "<style scoped>\n",
       "    .dataframe tbody tr th:only-of-type {\n",
       "        vertical-align: middle;\n",
       "    }\n",
       "\n",
       "    .dataframe tbody tr th {\n",
       "        vertical-align: top;\n",
       "    }\n",
       "\n",
       "    .dataframe thead th {\n",
       "        text-align: right;\n",
       "    }\n",
       "</style>\n",
       "<table border=\"1\" class=\"dataframe\">\n",
       "  <thead>\n",
       "    <tr style=\"text-align: right;\">\n",
       "      <th></th>\n",
       "      <th>h1n1_worry</th>\n",
       "      <th>h1n1_awareness</th>\n",
       "      <th>antiviral_medication</th>\n",
       "      <th>contact_avoidance</th>\n",
       "      <th>bought_face_mask</th>\n",
       "      <th>wash_hands_frequently</th>\n",
       "      <th>avoid_large_gatherings</th>\n",
       "      <th>reduced_outside_home_cont</th>\n",
       "      <th>avoid_touch_face</th>\n",
       "      <th>chronic_medic_condition</th>\n",
       "      <th>...</th>\n",
       "      <th>age_bracket</th>\n",
       "      <th>qualification</th>\n",
       "      <th>race</th>\n",
       "      <th>sex</th>\n",
       "      <th>marital_status</th>\n",
       "      <th>employment</th>\n",
       "      <th>census_msa</th>\n",
       "      <th>no_of_adults</th>\n",
       "      <th>no_of_children</th>\n",
       "      <th>h1n1_vaccine</th>\n",
       "    </tr>\n",
       "  </thead>\n",
       "  <tbody>\n",
       "    <tr>\n",
       "      <th>0</th>\n",
       "      <td>1.0</td>\n",
       "      <td>0.0</td>\n",
       "      <td>0.0</td>\n",
       "      <td>0.0</td>\n",
       "      <td>0.0</td>\n",
       "      <td>0.0</td>\n",
       "      <td>0.0</td>\n",
       "      <td>1.0</td>\n",
       "      <td>1.0</td>\n",
       "      <td>0.0</td>\n",
       "      <td>...</td>\n",
       "      <td>55 - 64 Years</td>\n",
       "      <td>&lt; 12 Years</td>\n",
       "      <td>White</td>\n",
       "      <td>Female</td>\n",
       "      <td>Not Married</td>\n",
       "      <td>Not in Labor Force</td>\n",
       "      <td>Non-MSA</td>\n",
       "      <td>0.0</td>\n",
       "      <td>0.0</td>\n",
       "      <td>0</td>\n",
       "    </tr>\n",
       "    <tr>\n",
       "      <th>1</th>\n",
       "      <td>3.0</td>\n",
       "      <td>2.0</td>\n",
       "      <td>0.0</td>\n",
       "      <td>1.0</td>\n",
       "      <td>0.0</td>\n",
       "      <td>1.0</td>\n",
       "      <td>0.0</td>\n",
       "      <td>1.0</td>\n",
       "      <td>1.0</td>\n",
       "      <td>0.0</td>\n",
       "      <td>...</td>\n",
       "      <td>35 - 44 Years</td>\n",
       "      <td>12 Years</td>\n",
       "      <td>White</td>\n",
       "      <td>Male</td>\n",
       "      <td>Not Married</td>\n",
       "      <td>Employed</td>\n",
       "      <td>MSA, Not Principle  City</td>\n",
       "      <td>0.0</td>\n",
       "      <td>0.0</td>\n",
       "      <td>0</td>\n",
       "    </tr>\n",
       "    <tr>\n",
       "      <th>2</th>\n",
       "      <td>1.0</td>\n",
       "      <td>1.0</td>\n",
       "      <td>0.0</td>\n",
       "      <td>1.0</td>\n",
       "      <td>0.0</td>\n",
       "      <td>0.0</td>\n",
       "      <td>0.0</td>\n",
       "      <td>0.0</td>\n",
       "      <td>0.0</td>\n",
       "      <td>1.0</td>\n",
       "      <td>...</td>\n",
       "      <td>18 - 34 Years</td>\n",
       "      <td>College Graduate</td>\n",
       "      <td>White</td>\n",
       "      <td>Male</td>\n",
       "      <td>Not Married</td>\n",
       "      <td>Employed</td>\n",
       "      <td>MSA, Not Principle  City</td>\n",
       "      <td>2.0</td>\n",
       "      <td>0.0</td>\n",
       "      <td>0</td>\n",
       "    </tr>\n",
       "    <tr>\n",
       "      <th>3</th>\n",
       "      <td>1.0</td>\n",
       "      <td>1.0</td>\n",
       "      <td>0.0</td>\n",
       "      <td>1.0</td>\n",
       "      <td>0.0</td>\n",
       "      <td>1.0</td>\n",
       "      <td>1.0</td>\n",
       "      <td>0.0</td>\n",
       "      <td>0.0</td>\n",
       "      <td>1.0</td>\n",
       "      <td>...</td>\n",
       "      <td>65+ Years</td>\n",
       "      <td>12 Years</td>\n",
       "      <td>White</td>\n",
       "      <td>Female</td>\n",
       "      <td>Not Married</td>\n",
       "      <td>Not in Labor Force</td>\n",
       "      <td>MSA, Principle City</td>\n",
       "      <td>0.0</td>\n",
       "      <td>0.0</td>\n",
       "      <td>0</td>\n",
       "    </tr>\n",
       "    <tr>\n",
       "      <th>4</th>\n",
       "      <td>2.0</td>\n",
       "      <td>1.0</td>\n",
       "      <td>0.0</td>\n",
       "      <td>1.0</td>\n",
       "      <td>0.0</td>\n",
       "      <td>1.0</td>\n",
       "      <td>1.0</td>\n",
       "      <td>0.0</td>\n",
       "      <td>1.0</td>\n",
       "      <td>0.0</td>\n",
       "      <td>...</td>\n",
       "      <td>45 - 54 Years</td>\n",
       "      <td>Some College</td>\n",
       "      <td>White</td>\n",
       "      <td>Female</td>\n",
       "      <td>Married</td>\n",
       "      <td>Employed</td>\n",
       "      <td>MSA, Not Principle  City</td>\n",
       "      <td>1.0</td>\n",
       "      <td>0.0</td>\n",
       "      <td>0</td>\n",
       "    </tr>\n",
       "  </tbody>\n",
       "</table>\n",
       "<p>5 rows × 28 columns</p>\n",
       "</div>"
      ],
      "text/plain": [
       "   h1n1_worry  h1n1_awareness  antiviral_medication  contact_avoidance  \\\n",
       "0         1.0             0.0                   0.0                0.0   \n",
       "1         3.0             2.0                   0.0                1.0   \n",
       "2         1.0             1.0                   0.0                1.0   \n",
       "3         1.0             1.0                   0.0                1.0   \n",
       "4         2.0             1.0                   0.0                1.0   \n",
       "\n",
       "   bought_face_mask  wash_hands_frequently  avoid_large_gatherings  \\\n",
       "0               0.0                    0.0                     0.0   \n",
       "1               0.0                    1.0                     0.0   \n",
       "2               0.0                    0.0                     0.0   \n",
       "3               0.0                    1.0                     1.0   \n",
       "4               0.0                    1.0                     1.0   \n",
       "\n",
       "   reduced_outside_home_cont  avoid_touch_face  chronic_medic_condition  ...  \\\n",
       "0                        1.0               1.0                      0.0  ...   \n",
       "1                        1.0               1.0                      0.0  ...   \n",
       "2                        0.0               0.0                      1.0  ...   \n",
       "3                        0.0               0.0                      1.0  ...   \n",
       "4                        0.0               1.0                      0.0  ...   \n",
       "\n",
       "     age_bracket     qualification   race     sex  marital_status  \\\n",
       "0  55 - 64 Years        < 12 Years  White  Female     Not Married   \n",
       "1  35 - 44 Years          12 Years  White    Male     Not Married   \n",
       "2  18 - 34 Years  College Graduate  White    Male     Not Married   \n",
       "3      65+ Years          12 Years  White  Female     Not Married   \n",
       "4  45 - 54 Years      Some College  White  Female         Married   \n",
       "\n",
       "           employment                census_msa  no_of_adults no_of_children  \\\n",
       "0  Not in Labor Force                   Non-MSA           0.0            0.0   \n",
       "1            Employed  MSA, Not Principle  City           0.0            0.0   \n",
       "2            Employed  MSA, Not Principle  City           2.0            0.0   \n",
       "3  Not in Labor Force       MSA, Principle City           0.0            0.0   \n",
       "4            Employed  MSA, Not Principle  City           1.0            0.0   \n",
       "\n",
       "  h1n1_vaccine  \n",
       "0            0  \n",
       "1            0  \n",
       "2            0  \n",
       "3            0  \n",
       "4            0  \n",
       "\n",
       "[5 rows x 28 columns]"
      ]
     },
     "execution_count": 122,
     "metadata": {},
     "output_type": "execute_result"
    }
   ],
   "source": [
    "df.head()"
   ]
  },
  {
   "cell_type": "code",
   "execution_count": 128,
   "id": "a7e9ed35",
   "metadata": {},
   "outputs": [
    {
     "data": {
      "text/html": [
       "<div>\n",
       "<style scoped>\n",
       "    .dataframe tbody tr th:only-of-type {\n",
       "        vertical-align: middle;\n",
       "    }\n",
       "\n",
       "    .dataframe tbody tr th {\n",
       "        vertical-align: top;\n",
       "    }\n",
       "\n",
       "    .dataframe thead tr th {\n",
       "        text-align: left;\n",
       "    }\n",
       "\n",
       "    .dataframe thead tr:last-of-type th {\n",
       "        text-align: right;\n",
       "    }\n",
       "</style>\n",
       "<table border=\"1\" class=\"dataframe\">\n",
       "  <thead>\n",
       "    <tr>\n",
       "      <th></th>\n",
       "      <th colspan=\"3\" halign=\"left\">no_of_adults</th>\n",
       "      <th colspan=\"3\" halign=\"left\">h1n1_vaccine</th>\n",
       "    </tr>\n",
       "    <tr>\n",
       "      <th></th>\n",
       "      <th>min</th>\n",
       "      <th>max</th>\n",
       "      <th>var</th>\n",
       "      <th>sum</th>\n",
       "      <th>mean</th>\n",
       "      <th>std</th>\n",
       "    </tr>\n",
       "    <tr>\n",
       "      <th>race</th>\n",
       "      <th></th>\n",
       "      <th></th>\n",
       "      <th></th>\n",
       "      <th></th>\n",
       "      <th></th>\n",
       "      <th></th>\n",
       "    </tr>\n",
       "  </thead>\n",
       "  <tbody>\n",
       "    <tr>\n",
       "      <th>Black</th>\n",
       "      <td>0.0</td>\n",
       "      <td>3.0</td>\n",
       "      <td>0.686955</td>\n",
       "      <td>279</td>\n",
       "      <td>0.148721</td>\n",
       "      <td>0.355908</td>\n",
       "    </tr>\n",
       "    <tr>\n",
       "      <th>Hispanic</th>\n",
       "      <td>0.0</td>\n",
       "      <td>3.0</td>\n",
       "      <td>0.726150</td>\n",
       "      <td>327</td>\n",
       "      <td>0.210019</td>\n",
       "      <td>0.407453</td>\n",
       "    </tr>\n",
       "    <tr>\n",
       "      <th>Other or Multiple</th>\n",
       "      <td>0.0</td>\n",
       "      <td>3.0</td>\n",
       "      <td>0.703963</td>\n",
       "      <td>302</td>\n",
       "      <td>0.216643</td>\n",
       "      <td>0.412105</td>\n",
       "    </tr>\n",
       "    <tr>\n",
       "      <th>White</th>\n",
       "      <td>0.0</td>\n",
       "      <td>3.0</td>\n",
       "      <td>0.518649</td>\n",
       "      <td>4248</td>\n",
       "      <td>0.221538</td>\n",
       "      <td>0.415293</td>\n",
       "    </tr>\n",
       "  </tbody>\n",
       "</table>\n",
       "</div>"
      ],
      "text/plain": [
       "                  no_of_adults                h1n1_vaccine                    \n",
       "                           min  max       var          sum      mean       std\n",
       "race                                                                          \n",
       "Black                      0.0  3.0  0.686955          279  0.148721  0.355908\n",
       "Hispanic                   0.0  3.0  0.726150          327  0.210019  0.407453\n",
       "Other or Multiple          0.0  3.0  0.703963          302  0.216643  0.412105\n",
       "White                      0.0  3.0  0.518649         4248  0.221538  0.415293"
      ]
     },
     "execution_count": 128,
     "metadata": {},
     "output_type": "execute_result"
    }
   ],
   "source": [
    "res1 = df.groupby('race').agg({'no_of_adults':['min','max','var'],\n",
    "                             'h1n1_vaccine':['sum','mean','std']})\n",
    "res1"
   ]
  },
  {
   "cell_type": "code",
   "execution_count": null,
   "id": "c8a59d26",
   "metadata": {},
   "outputs": [],
   "source": []
  }
 ],
 "metadata": {
  "kernelspec": {
   "display_name": "Python 3 (ipykernel)",
   "language": "python",
   "name": "python3"
  },
  "language_info": {
   "codemirror_mode": {
    "name": "ipython",
    "version": 3
   },
   "file_extension": ".py",
   "mimetype": "text/x-python",
   "name": "python",
   "nbconvert_exporter": "python",
   "pygments_lexer": "ipython3",
   "version": "3.9.13"
  }
 },
 "nbformat": 4,
 "nbformat_minor": 5
}
